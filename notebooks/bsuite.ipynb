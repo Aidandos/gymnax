{
 "cells": [
  {
   "cell_type": "code",
   "execution_count": 1,
   "metadata": {},
   "outputs": [],
   "source": [
    "%matplotlib inline\n",
    "%load_ext autoreload\n",
    "%autoreload 2\n",
    "%config InlineBackend.figure_format = 'retina'"
   ]
  },
  {
   "cell_type": "code",
   "execution_count": 2,
   "metadata": {},
   "outputs": [],
   "source": [
    "import jax\n",
    "import jax.numpy as jnp\n",
    "import gymnax\n",
    "from bsuite.environments import catch, deep_sea, discounting_chain, memory_chain"
   ]
  },
  {
   "cell_type": "markdown",
   "metadata": {},
   "source": [
    "# Catch"
   ]
  },
  {
   "cell_type": "code",
   "execution_count": 3,
   "metadata": {},
   "outputs": [
    {
     "name": "stderr",
     "output_type": "stream",
     "text": [
      "WARNING:absl:No GPU/TPU found, falling back to CPU. (Set TF_CPP_MIN_LOG_LEVEL=0 and rerun for more info.)\n",
      "/Users/rtl/anaconda2/envs/ma-vision/lib/python3.6/site-packages/jax/_src/numpy/lax_numpy.py:5031: UserWarning: Explicitly requested dtype <class 'jax._src.numpy.lax_numpy.int64'> requested in astype is not available, and will be truncated to dtype int32. To enable more dtypes, set the jax_enable_x64 configuration option or the JAX_ENABLE_X64 shell environment variable. See https://github.com/google/jax#current-gotchas for more.\n",
      "  lax._check_user_dtype_supported(dtype, \"astype\")\n"
     ]
    }
   ],
   "source": [
    "# 1. Create gymnax based environment\n",
    "rng, env = gymnax.make(\"Catch-bsuite\")\n",
    "rng, key_reset, key_step, key_action = jax.random.split(rng, 4)\n",
    "obs, state = env.reset(key_reset)\n",
    "\n",
    "# 2. Setup bsuite-based environment, get state dict\n",
    "env_gym = catch.Catch()\n",
    "_ = env_gym.reset()\n",
    "state = gymnax.utils.np_state_to_jax(env_gym, \"Catch-bsuite\")\n",
    "\n",
    "# 3. Transition in both environments\n",
    "action = env.action_space.sample(key_action)\n",
    "timestep = env_gym.step(jnp.array(action))\n",
    "obs_gym, reward_gym, done_gym = timestep.observation, timestep.reward, 1-timestep.discount\n",
    "obs_jax, state_jax, reward_jax, done_jax, _ = env.step(key_step, state, action)\n",
    "\n",
    "# 4a. Check correctness of transition\n",
    "gymnax.utils.assert_correct_transit(obs_gym, reward_gym, done_gym,\n",
    "                                    obs_jax, reward_jax, done_jax)\n",
    "\n",
    "# 4b. Check that post-transition states are equal\n",
    "gymnax.utils.assert_correct_state(env_gym, \"Catch-bsuite\", state_jax)"
   ]
  },
  {
   "cell_type": "markdown",
   "metadata": {},
   "source": [
    "# DeepSea"
   ]
  },
  {
   "cell_type": "code",
   "execution_count": 4,
   "metadata": {},
   "outputs": [
    {
     "name": "stderr",
     "output_type": "stream",
     "text": [
      "/Users/rtl/anaconda2/envs/ma-vision/lib/python3.6/site-packages/bsuite/environments/deep_sea.py:83: UserWarning: Environment is in debug mode (randomize_actions=False).Only randomized_actions=True is the DeepSea environment.\n",
      "  warnings.warn('Environment is in debug mode (randomize_actions=False).'\n"
     ]
    }
   ],
   "source": [
    "# 1. Create gymnax based environment\n",
    "rng, env = gymnax.make(\"DeepSea-bsuite\")\n",
    "rng, key_reset, key_step, key_action = jax.random.split(rng, 4)\n",
    "obs, state = env.reset(key_reset)\n",
    "\n",
    "# 2. Setup bsuite-based environment, get state dict\n",
    "env_gym = deep_sea.DeepSea(size=8, randomize_actions=False)\n",
    "_ = env_gym.reset()\n",
    "state = gymnax.utils.np_state_to_jax(env_gym, \"DeepSea-bsuite\")\n",
    "\n",
    "# 3. Transition in both environments\n",
    "action = env.action_space.sample(key_action)\n",
    "timestep = env_gym.step(jnp.array(action))\n",
    "obs_gym, reward_gym, done_gym = timestep.observation, timestep.reward, 1-timestep.discount\n",
    "obs_jax, state_jax, reward_jax, done_jax, _ = env.step(key_step, state, action)\n",
    "\n",
    "# 4a. Check correctness of transition\n",
    "gymnax.utils.assert_correct_transit(obs_gym, reward_gym, done_gym,\n",
    "                                    obs_jax, reward_jax, done_jax)\n",
    "\n",
    "# 4b. Check that post-transition states are equal\n",
    "gymnax.utils.assert_correct_state(env_gym, \"DeepSea-bsuite\", state_jax)"
   ]
  },
  {
   "cell_type": "markdown",
   "metadata": {},
   "source": [
    "# Discounting Chain"
   ]
  },
  {
   "cell_type": "code",
   "execution_count": 5,
   "metadata": {},
   "outputs": [],
   "source": [
    "# 1. Create gymnax based environment\n",
    "rng, env = gymnax.make(\"DiscountingChain-bsuite\")\n",
    "rng, key_reset, key_step, key_action = jax.random.split(rng, 4)\n",
    "obs, state = env.reset(key_reset)\n",
    "\n",
    "# 2. Setup bsuite-based environment, get state dict\n",
    "env_gym = discounting_chain.DiscountingChain(mapping_seed=0)\n",
    "_ = env_gym.reset()\n",
    "state = gymnax.utils.np_state_to_jax(env_gym, \"DiscountingChain-bsuite\")\n",
    "\n",
    "# 3. Transition in both environments\n",
    "action = env.action_space.sample(key_action)\n",
    "timestep = env_gym.step(jnp.array(action))\n",
    "obs_gym, reward_gym, done_gym = timestep.observation, timestep.reward, 1-timestep.discount\n",
    "obs_jax, state_jax, reward_jax, done_jax, _ = env.step(key_step, state, action)\n",
    "\n",
    "# 4a. Check correctness of transition\n",
    "gymnax.utils.assert_correct_transit(obs_gym, reward_gym, done_gym,\n",
    "                                    obs_jax, reward_jax, done_jax)\n",
    "\n",
    "# 4b. Check that post-transition states are equal\n",
    "gymnax.utils.assert_correct_state(env_gym, \"DiscountingChain-bsuite\", state_jax)"
   ]
  },
  {
   "cell_type": "markdown",
   "metadata": {},
   "source": [
    "# Memory Chain"
   ]
  },
  {
   "cell_type": "code",
   "execution_count": 10,
   "metadata": {},
   "outputs": [
    {
     "ename": "TypeError",
     "evalue": "__init__() missing 1 required positional argument: 'memory_length'",
     "output_type": "error",
     "traceback": [
      "\u001b[0;31m---------------------------------------------------------------------------\u001b[0m",
      "\u001b[0;31mTypeError\u001b[0m                                 Traceback (most recent call last)",
      "\u001b[0;32m<ipython-input-10-31a2b58cae61>\u001b[0m in \u001b[0;36m<module>\u001b[0;34m\u001b[0m\n\u001b[1;32m      5\u001b[0m \u001b[0;34m\u001b[0m\u001b[0m\n\u001b[1;32m      6\u001b[0m \u001b[0;31m# 2. Setup bsuite-based environment, get state dict\u001b[0m\u001b[0;34m\u001b[0m\u001b[0;34m\u001b[0m\u001b[0;34m\u001b[0m\u001b[0m\n\u001b[0;32m----> 7\u001b[0;31m \u001b[0menv_gym\u001b[0m \u001b[0;34m=\u001b[0m \u001b[0mmemory_chain\u001b[0m\u001b[0;34m.\u001b[0m\u001b[0mMemoryChain\u001b[0m\u001b[0;34m(\u001b[0m\u001b[0;34m)\u001b[0m\u001b[0;34m\u001b[0m\u001b[0;34m\u001b[0m\u001b[0m\n\u001b[0m\u001b[1;32m      8\u001b[0m \u001b[0m_\u001b[0m \u001b[0;34m=\u001b[0m \u001b[0menv_gym\u001b[0m\u001b[0;34m.\u001b[0m\u001b[0mreset\u001b[0m\u001b[0;34m(\u001b[0m\u001b[0;34m)\u001b[0m\u001b[0;34m\u001b[0m\u001b[0;34m\u001b[0m\u001b[0m\n\u001b[1;32m      9\u001b[0m \u001b[0mstate\u001b[0m \u001b[0;34m=\u001b[0m \u001b[0mgymnax\u001b[0m\u001b[0;34m.\u001b[0m\u001b[0mutils\u001b[0m\u001b[0;34m.\u001b[0m\u001b[0mnp_state_to_jax\u001b[0m\u001b[0;34m(\u001b[0m\u001b[0menv_gym\u001b[0m\u001b[0;34m,\u001b[0m \u001b[0;34m\"MemoryChain-bsuite\"\u001b[0m\u001b[0;34m)\u001b[0m\u001b[0;34m\u001b[0m\u001b[0;34m\u001b[0m\u001b[0m\n",
      "\u001b[0;31mTypeError\u001b[0m: __init__() missing 1 required positional argument: 'memory_length'"
     ]
    }
   ],
   "source": [
    "# 1. Create gymnax based environment\n",
    "rng, env = gymnax.make(\"MemoryChain-bsuite\")\n",
    "rng, key_reset, key_step, key_action = jax.random.split(rng, 4)\n",
    "obs, state = env.reset(key_reset)\n",
    "\n",
    "# 2. Setup bsuite-based environment, get state dict\n",
    "env_gym = memory_chain.MemoryChain(memory_)\n",
    "_ = env_gym.reset()\n",
    "state = gymnax.utils.np_state_to_jax(env_gym, \"MemoryChain-bsuite\")\n",
    "\n",
    "# 3. Transition in both environments\n",
    "action = env.action_space.sample(key_action)\n",
    "timestep = env_gym.step(jnp.array(action))\n",
    "obs_gym, reward_gym, done_gym = timestep.observation, timestep.reward, 1-timestep.discount\n",
    "obs_jax, state_jax, reward_jax, done_jax, _ = env.step(key_step, state, action)\n",
    "\n",
    "# 4a. Check correctness of transition\n",
    "gymnax.utils.assert_correct_transit(obs_gym, reward_gym, done_gym,\n",
    "                                    obs_jax, reward_jax, done_jax)\n",
    "\n",
    "# 4b. Check that post-transition states are equal\n",
    "gymnax.utils.assert_correct_state(env_gym, \"MemoryChain-bsuite\", state_jax)"
   ]
  },
  {
   "cell_type": "code",
   "execution_count": null,
   "metadata": {},
   "outputs": [],
   "source": []
  }
 ],
 "metadata": {
  "kernelspec": {
   "display_name": "Python3 (ma-vision)",
   "language": "python",
   "name": "ma-vision"
  },
  "language_info": {
   "codemirror_mode": {
    "name": "ipython",
    "version": 3
   },
   "file_extension": ".py",
   "mimetype": "text/x-python",
   "name": "python",
   "nbconvert_exporter": "python",
   "pygments_lexer": "ipython3",
   "version": "3.6.9"
  }
 },
 "nbformat": 4,
 "nbformat_minor": 4
}
