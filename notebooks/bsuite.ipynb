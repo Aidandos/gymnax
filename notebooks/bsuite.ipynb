{
 "cells": [
  {
   "cell_type": "code",
   "execution_count": 1,
   "metadata": {},
   "outputs": [],
   "source": [
    "%matplotlib inline\n",
    "%load_ext autoreload\n",
    "%autoreload 2\n",
    "%config InlineBackend.figure_format = 'retina'"
   ]
  },
  {
   "cell_type": "code",
   "execution_count": 3,
   "metadata": {},
   "outputs": [],
   "source": [
    "import jax\n",
    "import jax.numpy as jnp\n",
    "import gymnax\n",
    "from bsuite.environments import catch, deep_sea"
   ]
  },
  {
   "cell_type": "markdown",
   "metadata": {},
   "source": [
    "# Catch"
   ]
  },
  {
   "cell_type": "code",
   "execution_count": 4,
   "metadata": {},
   "outputs": [
    {
     "data": {
      "text/plain": [
       "(10, 5)"
      ]
     },
     "execution_count": 4,
     "metadata": {},
     "output_type": "execute_result"
    }
   ],
   "source": [
    "rng, reset, step, env_params = gymnax.make(\"Catch-bsuite\")\n",
    "rng, key_reset, key_step = jax.random.split(rng, 3)\n",
    "obs, state = reset(key_reset, env_params)\n",
    "obs.shape"
   ]
  },
  {
   "cell_type": "code",
   "execution_count": 5,
   "metadata": {},
   "outputs": [],
   "source": [
    "env = catch.Catch()\n",
    "timestep = env.reset()"
   ]
  },
  {
   "cell_type": "code",
   "execution_count": 6,
   "metadata": {},
   "outputs": [
    {
     "name": "stdout",
     "output_type": "stream",
     "text": [
      "[[0. 0. 0. 0. 0.]\n",
      " [0. 0. 0. 0. 1.]\n",
      " [0. 0. 0. 0. 0.]\n",
      " [0. 0. 0. 0. 0.]\n",
      " [0. 0. 0. 0. 0.]\n",
      " [0. 0. 0. 0. 0.]\n",
      " [0. 0. 0. 0. 0.]\n",
      " [0. 0. 0. 0. 0.]\n",
      " [0. 0. 0. 0. 0.]\n",
      " [0. 0. 1. 0. 0.]]\n",
      "0.0\n",
      "1.0\n"
     ]
    }
   ],
   "source": [
    "state = jnp.array([env._ball_x, env._ball_y,\n",
    "                   env._paddle_x, env._paddle_y, 0,\n",
    "                   env._reset_next_step]).copy()\n",
    "action = 1\n",
    "timestep = env.step(action)\n",
    "print(timestep.observation)\n",
    "print(timestep.reward)\n",
    "print(timestep.discount)"
   ]
  },
  {
   "cell_type": "code",
   "execution_count": 7,
   "metadata": {},
   "outputs": [
    {
     "data": {
      "text/plain": [
       "(DeviceArray([[0., 0., 0., 0., 0.],\n",
       "              [0., 0., 0., 0., 1.],\n",
       "              [0., 0., 0., 0., 0.],\n",
       "              [0., 0., 0., 0., 0.],\n",
       "              [0., 0., 0., 0., 0.],\n",
       "              [0., 0., 0., 0., 0.],\n",
       "              [0., 0., 0., 0., 0.],\n",
       "              [0., 0., 0., 0., 0.],\n",
       "              [0., 0., 0., 0., 0.],\n",
       "              [0., 0., 1., 0., 0.]], dtype=float32),\n",
       " DeviceArray(0, dtype=int32),\n",
       " DeviceArray(1, dtype=int32))"
      ]
     },
     "execution_count": 7,
     "metadata": {},
     "output_type": "execute_result"
    }
   ],
   "source": [
    "obs_jax, state_jax, reward_jax, done_jax, _ = step(key_step, env_params,\n",
    "                                                   state, action)\n",
    "obs_jax, reward_jax, 1-done_jax"
   ]
  },
  {
   "cell_type": "markdown",
   "metadata": {},
   "source": [
    "# DeepSea"
   ]
  },
  {
   "cell_type": "code",
   "execution_count": 8,
   "metadata": {},
   "outputs": [
    {
     "data": {
      "text/plain": [
       "{'bad_episode': DeviceArray(False, dtype=bool),\n",
       " 'column': DeviceArray(0, dtype=int32),\n",
       " 'denoised_return': DeviceArray(0, dtype=int32),\n",
       " 'optimal_no_cost': DeviceArray(1., dtype=float32),\n",
       " 'optimal_return': DeviceArray(0.99, dtype=float32),\n",
       " 'row': DeviceArray(0, dtype=int32),\n",
       " 'terminal': DeviceArray(False, dtype=bool),\n",
       " 'total_bad_episodes': DeviceArray(0, dtype=int32)}"
      ]
     },
     "execution_count": 8,
     "metadata": {},
     "output_type": "execute_result"
    }
   ],
   "source": [
    "rng, reset, step, env_params = gymnax.make(\"DeepSea-bsuite\")\n",
    "rng, key_reset, key_step = jax.random.split(rng, 3)\n",
    "obs, state = reset(key_reset, env_params)\n",
    "state"
   ]
  },
  {
   "cell_type": "code",
   "execution_count": 9,
   "metadata": {},
   "outputs": [],
   "source": [
    "env = deep_sea.DeepSea(size=8)\n",
    "obs = env.reset()"
   ]
  },
  {
   "cell_type": "code",
   "execution_count": 10,
   "metadata": {},
   "outputs": [
    {
     "name": "stdout",
     "output_type": "stream",
     "text": [
      "[[0. 0. 0. 0. 0. 0. 0. 0.]\n",
      " [0. 1. 0. 0. 0. 0. 0. 0.]\n",
      " [0. 0. 0. 0. 0. 0. 0. 0.]\n",
      " [0. 0. 0. 0. 0. 0. 0. 0.]\n",
      " [0. 0. 0. 0. 0. 0. 0. 0.]\n",
      " [0. 0. 0. 0. 0. 0. 0. 0.]\n",
      " [0. 0. 0. 0. 0. 0. 0. 0.]\n",
      " [0. 0. 0. 0. 0. 0. 0. 0.]]\n",
      "-0.00125\n",
      "1.0\n"
     ]
    }
   ],
   "source": [
    "action = 1\n",
    "timestep = env.step(action)\n",
    "print(timestep.observation)\n",
    "print(timestep.reward)\n",
    "print(timestep.discount)"
   ]
  },
  {
   "cell_type": "code",
   "execution_count": 11,
   "metadata": {},
   "outputs": [
    {
     "data": {
      "text/plain": [
       "FrozenDict({\n",
       "    size: 8,\n",
       "    deterministic: True,\n",
       "    unscaled_move_cost: 0.01,\n",
       "    randomize_actions: True,\n",
       "})"
      ]
     },
     "execution_count": 11,
     "metadata": {},
     "output_type": "execute_result"
    }
   ],
   "source": [
    "env_params"
   ]
  },
  {
   "cell_type": "code",
   "execution_count": 12,
   "metadata": {},
   "outputs": [
    {
     "data": {
      "text/plain": [
       "(DeviceArray([[0., 0., 0., 0., 0., 0., 0., 0.],\n",
       "              [0., 0., 0., 0., 0., 0., 0., 0.],\n",
       "              [0., 0., 0., 0., 0., 0., 0., 0.],\n",
       "              [0., 0., 0., 0., 0., 0., 0., 0.],\n",
       "              [0., 0., 0., 0., 0., 0., 0., 0.],\n",
       "              [0., 0., 0., 0., 0., 0., 0., 0.],\n",
       "              [0., 0., 0., 0., 0., 0., 0., 0.],\n",
       "              [0., 0., 0., 0., 0., 0., 0., 0.]], dtype=float32),\n",
       " DeviceArray([-0.00125], dtype=float32),\n",
       " DeviceArray(1, dtype=int32))"
      ]
     },
     "execution_count": 12,
     "metadata": {},
     "output_type": "execute_result"
    }
   ],
   "source": [
    "obs_jax, state_jax, reward_jax, done_jax, _ = step(key_step, env_params,\n",
    "                                                   state, action)\n",
    "obs_jax, reward_jax, 1-done_jax"
   ]
  },
  {
   "cell_type": "code",
   "execution_count": null,
   "metadata": {},
   "outputs": [],
   "source": []
  }
 ],
 "metadata": {
  "kernelspec": {
   "display_name": "Python3 (ma-vision)",
   "language": "python",
   "name": "ma-vision"
  },
  "language_info": {
   "codemirror_mode": {
    "name": "ipython",
    "version": 3
   },
   "file_extension": ".py",
   "mimetype": "text/x-python",
   "name": "python",
   "nbconvert_exporter": "python",
   "pygments_lexer": "ipython3",
   "version": "3.6.9"
  }
 },
 "nbformat": 4,
 "nbformat_minor": 4
}
