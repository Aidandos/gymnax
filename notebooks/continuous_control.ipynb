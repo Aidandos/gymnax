{
 "cells": [
  {
   "cell_type": "code",
   "execution_count": 11,
   "metadata": {},
   "outputs": [
    {
     "name": "stdout",
     "output_type": "stream",
     "text": [
      "The autoreload extension is already loaded. To reload it, use:\n",
      "  %reload_ext autoreload\n"
     ]
    }
   ],
   "source": [
    "%matplotlib inline\n",
    "%load_ext autoreload\n",
    "%autoreload 2\n",
    "%config InlineBackend.figure_format = 'retina'\n",
    "\n",
    "import jax\n",
    "import jax.numpy as jnp\n",
    "import gym\n",
    "import gymnax"
   ]
  },
  {
   "cell_type": "code",
   "execution_count": 12,
   "metadata": {},
   "outputs": [],
   "source": [
    "from gymnax.environments.classic_control.cartpole_env import CartPole\n",
    "rng = jax.random.PRNGKey(0)"
   ]
  },
  {
   "cell_type": "code",
   "execution_count": 22,
   "metadata": {},
   "outputs": [],
   "source": [
    "env = CartPole()\n",
    "#obs, state = env.reset(rng)"
   ]
  },
  {
   "cell_type": "code",
   "execution_count": 23,
   "metadata": {},
   "outputs": [
    {
     "data": {
      "text/plain": [
       "{'x': -0.038390625947257055,\n",
       " 'x_dot': -0.014153253478980742,\n",
       " 'theta': -0.01245509955603702,\n",
       " 'theta_dot': -0.0007437997341888658,\n",
       " 'time': 0,\n",
       " 'terminal': 0}"
      ]
     },
     "execution_count": 23,
     "metadata": {},
     "output_type": "execute_result"
    }
   ],
   "source": [
    "state"
   ]
  },
  {
   "cell_type": "code",
   "execution_count": 24,
   "metadata": {},
   "outputs": [
    {
     "data": {
      "text/plain": [
       "(DeviceArray([[-0.03867369, -0.20909439, -0.01246998,  0.2879835 ],\n",
       "              [-0.03867369, -0.20909439, -0.01246998,  0.2879835 ],\n",
       "              [-0.03867369, -0.20909439, -0.01246998,  0.2879835 ],\n",
       "              [-0.03867369, -0.20909439, -0.01246998,  0.2879835 ],\n",
       "              [-0.03867369, -0.20909439, -0.01246998,  0.2879835 ],\n",
       "              [-0.03867369, -0.20909439, -0.01246998,  0.2879835 ],\n",
       "              [-0.03867369, -0.20909439, -0.01246998,  0.2879835 ],\n",
       "              [-0.03867369, -0.20909439, -0.01246998,  0.2879835 ],\n",
       "              [-0.03867369, -0.20909439, -0.01246998,  0.2879835 ],\n",
       "              [-0.03867369, -0.20909439, -0.01246998,  0.2879835 ]],            dtype=float32),\n",
       " {'terminal': DeviceArray([False, False, False, False, False, False, False, False,\n",
       "               False, False], dtype=bool),\n",
       "  'theta': DeviceArray([-0.01246998, -0.01246998, -0.01246998, -0.01246998,\n",
       "               -0.01246998, -0.01246998, -0.01246998, -0.01246998,\n",
       "               -0.01246998, -0.01246998], dtype=float32),\n",
       "  'theta_dot': DeviceArray([0.2879835, 0.2879835, 0.2879835, 0.2879835, 0.2879835,\n",
       "               0.2879835, 0.2879835, 0.2879835, 0.2879835, 0.2879835],            dtype=float32),\n",
       "  'time': DeviceArray([1, 1, 1, 1, 1, 1, 1, 1, 1, 1], dtype=int32),\n",
       "  'x': DeviceArray([-0.03867369, -0.03867369, -0.03867369, -0.03867369,\n",
       "               -0.03867369, -0.03867369, -0.03867369, -0.03867369,\n",
       "               -0.03867369, -0.03867369], dtype=float32),\n",
       "  'x_dot': DeviceArray([-0.20909439, -0.20909439, -0.20909439, -0.20909439,\n",
       "               -0.20909439, -0.20909439, -0.20909439, -0.20909439,\n",
       "               -0.20909439, -0.20909439], dtype=float32)},\n",
       " DeviceArray([1., 1., 1., 1., 1., 1., 1., 1., 1., 1.], dtype=float32),\n",
       " DeviceArray([False, False, False, False, False, False, False, False,\n",
       "              False, False], dtype=bool),\n",
       " {})"
      ]
     },
     "execution_count": 24,
     "metadata": {},
     "output_type": "execute_result"
    }
   ],
   "source": [
    "jit_step = jax.jit(env.step)#(rng, state, 0)\n",
    "vmap_step = jax.vmap(jit_step, in_axes=(0, None, None))(jax.random.split(rng, 10), state, 0)\n",
    "vmap_step"
   ]
  },
  {
   "cell_type": "code",
   "execution_count": 16,
   "metadata": {},
   "outputs": [
    {
     "data": {
      "text/plain": [
       "'CartPole-v0'"
      ]
     },
     "execution_count": 16,
     "metadata": {},
     "output_type": "execute_result"
    }
   ],
   "source": [
    "env.name"
   ]
  },
  {
   "cell_type": "code",
   "execution_count": 18,
   "metadata": {},
   "outputs": [
    {
     "data": {
      "text/plain": [
       "FrozenDict({\n",
       "    force_mag: 10.0,\n",
       "    gravity: 9.8,\n",
       "    length: 0.5,\n",
       "    masscart: 1.0,\n",
       "    masspole: 0.1,\n",
       "    max_steps_in_episode: 200,\n",
       "    polemass_length: 0.05,\n",
       "    tau: 0.02,\n",
       "    theta_threshold_radians: 0.20943951023931953,\n",
       "    total_mass: 1.1,\n",
       "    x_threshold: 2.4,\n",
       "    p_name: 10,\n",
       "})"
      ]
     },
     "execution_count": 18,
     "metadata": {},
     "output_type": "execute_result"
    }
   ],
   "source": [
    "env.update_env_params(\"gravity\", 10)\n",
    "env.env_params"
   ]
  },
  {
   "cell_type": "markdown",
   "metadata": {},
   "source": [
    "# Pendulum-v0"
   ]
  },
  {
   "cell_type": "code",
   "execution_count": null,
   "metadata": {},
   "outputs": [],
   "source": [
    "# 2D State Space, 3D Obs Space, 1D Action Space [Continuous - Torque]\n",
    "rng, reset, step, env_params = gymnax.make(\"Pendulum-v0\")\n",
    "rng, key_reset, key_step = jax.random.split(rng, 3)\n",
    "obs, state = reset(key_reset, env_params)"
   ]
  },
  {
   "cell_type": "code",
   "execution_count": null,
   "metadata": {},
   "outputs": [],
   "source": [
    "env = gym.make(\"Pendulum-v0\")\n",
    "obs = env.reset()\n",
    "state_gym_to_jax = {\"theta\": env.state[0], \n",
    "                    \"theta_dot\": env.state[1],\n",
    "                    \"time\": 0,\n",
    "                    \"terminal\": 0}\n",
    "\n",
    "action = jnp.array([1])\n",
    "obs_gym, reward_gym, done_gym, _ = env.step(action)\n",
    "obs_gym, reward_gym, done_gym"
   ]
  },
  {
   "cell_type": "code",
   "execution_count": null,
   "metadata": {},
   "outputs": [],
   "source": [
    "obs_jax, state_jax, reward_jax, done_jax, _ = step(key_step, env_params,\n",
    "                                                   state_gym_to_jax, action)\n",
    "obs_jax, reward_jax, done_jax"
   ]
  },
  {
   "cell_type": "markdown",
   "metadata": {},
   "source": [
    "# CartPole-v0"
   ]
  },
  {
   "cell_type": "code",
   "execution_count": 19,
   "metadata": {},
   "outputs": [],
   "source": [
    "# 4D State = Obs Space, 1D Action Space [Discrete - Left, Right]\n",
    "rng, reset, step, env_params = gymnax.make(\"CartPole-v0\")\n",
    "rng, key_reset, key_step = jax.random.split(rng, 3)\n",
    "obs, state = reset(key_reset, env_params)"
   ]
  },
  {
   "cell_type": "code",
   "execution_count": 20,
   "metadata": {},
   "outputs": [
    {
     "data": {
      "text/plain": [
       "(array([-0.03867369, -0.20909439, -0.01246998,  0.28798351]), 1.0, False)"
      ]
     },
     "execution_count": 20,
     "metadata": {},
     "output_type": "execute_result"
    }
   ],
   "source": [
    "env = gym.make(\"CartPole-v0\")\n",
    "obs = env.reset()\n",
    "state = {\"x\": obs[0],\n",
    "         \"x_dot\": obs[1],\n",
    "         \"theta\": obs[2],\n",
    "         \"theta_dot\": obs[3],\n",
    "         \"time\": 0,\n",
    "         \"terminal\": 0}\n",
    "\n",
    "action = 0\n",
    "obs_gym, reward_gym, done_gym, _ = env.step(action)\n",
    "obs_gym, reward_gym, done_gym"
   ]
  },
  {
   "cell_type": "code",
   "execution_count": 21,
   "metadata": {},
   "outputs": [
    {
     "data": {
      "text/plain": [
       "(DeviceArray([-0.03867369, -0.20909439, -0.01246998,  0.2879835 ], dtype=float32),\n",
       " DeviceArray(1., dtype=float32),\n",
       " DeviceArray(False, dtype=bool))"
      ]
     },
     "execution_count": 21,
     "metadata": {},
     "output_type": "execute_result"
    }
   ],
   "source": [
    "obs_jax, state_jax, reward_jax, done_jax, _ = step(key_step, env_params,\n",
    "                                                   state, action)\n",
    "obs_jax, reward_jax, done_jax"
   ]
  },
  {
   "cell_type": "markdown",
   "metadata": {},
   "source": [
    "# MountainCar-v0"
   ]
  },
  {
   "cell_type": "code",
   "execution_count": null,
   "metadata": {},
   "outputs": [],
   "source": [
    "# 2D State = Obs Space, 1D Action Space [Discrete - Acc. Left, No Acc., Acc. Right]\n",
    "rng, reset, step, env_params = gymnax.make(\"MountainCar-v0\")\n",
    "rng, key_reset, key_step = jax.random.split(rng, 3)\n",
    "obs, state = reset(key_reset, env_params)"
   ]
  },
  {
   "cell_type": "code",
   "execution_count": null,
   "metadata": {},
   "outputs": [],
   "source": [
    "env = gym.make(\"MountainCar-v0\")\n",
    "obs = env.reset()\n",
    "state = {\"position\": obs[0],\n",
    "         \"velocity\": obs[1],\n",
    "         \"time\": 0,\n",
    "         \"terminal\": 0}\n",
    "\n",
    "action = 0\n",
    "obs_gym, reward_gym, done_gym, _ = env.step(action)\n",
    "obs_gym, reward_gym, done_gym"
   ]
  },
  {
   "cell_type": "code",
   "execution_count": null,
   "metadata": {},
   "outputs": [],
   "source": [
    "obs_jax, state_jax, reward_jax, done_jax, _ = step(key_step, env_params,\n",
    "                                                   state, action)\n",
    "obs_jax, reward_jax, done_jax"
   ]
  },
  {
   "cell_type": "markdown",
   "metadata": {},
   "source": [
    "# MountainCarContinuous-v0"
   ]
  },
  {
   "cell_type": "code",
   "execution_count": null,
   "metadata": {},
   "outputs": [],
   "source": [
    "# 2D State = Obs Space, 1D Action Space [Cont.: -1, 1]\n",
    "rng, reset, step, env_params = gymnax.make(\"MountainCarContinuous-v0\")\n",
    "rng, key_reset, key_step = jax.random.split(rng, 3)\n",
    "obs, state = reset(key_reset, env_params)"
   ]
  },
  {
   "cell_type": "code",
   "execution_count": null,
   "metadata": {},
   "outputs": [],
   "source": [
    "env = gym.make(\"MountainCarContinuous-v0\")\n",
    "obs = env.reset()\n",
    "state = {\"position\": obs[0],\n",
    "         \"velocity\": obs[1],\n",
    "         \"time\": 0,\n",
    "         \"terminal\": 0}\n",
    "\n",
    "action = jnp.array([0.5])\n",
    "obs_gym, reward_gym, done_gym, _ = env.step(action)\n",
    "obs_gym, reward_gym, done_gym"
   ]
  },
  {
   "cell_type": "code",
   "execution_count": null,
   "metadata": {},
   "outputs": [],
   "source": [
    "obs_jax, state_jax, reward_jax, done_jax, _ = step(key_step, env_params,\n",
    "                                                   state, action)\n",
    "obs_jax, reward_jax, done_jax"
   ]
  },
  {
   "cell_type": "markdown",
   "metadata": {},
   "source": [
    "# Acrobot-v1"
   ]
  },
  {
   "cell_type": "code",
   "execution_count": null,
   "metadata": {},
   "outputs": [],
   "source": [
    "# 6D State = Obs Space, 1D Action Space [Cont.: -1, 1]\n",
    "rng, reset, step, env_params = gymnax.make(\"Acrobot-v1\")\n",
    "rng, key_reset, key_step = jax.random.split(rng, 3)\n",
    "obs, state = reset(key_reset, env_params)"
   ]
  },
  {
   "cell_type": "code",
   "execution_count": null,
   "metadata": {},
   "outputs": [],
   "source": [
    "env = gym.make(\"Acrobot-v1\")\n",
    "obs = env.reset()\n",
    "state = {\"joint_angle1\": env.state[0],\n",
    "             \"joint_angle2\": env.state[1],\n",
    "             \"velocity_1\": env.state[2],\n",
    "             \"velocity_2\": env.state[3],\n",
    "             \"time\": 0,\n",
    "             \"terminal\": 0}\n",
    "\n",
    "\n",
    "action = 2\n",
    "obs_gym, reward_gym, done_gym, _ = env.step(action)\n",
    "obs_gym, reward_gym, done_gym"
   ]
  },
  {
   "cell_type": "code",
   "execution_count": null,
   "metadata": {},
   "outputs": [],
   "source": [
    "obs_jax, state_jax, reward_jax, done_jax, _ = step(key_step, env_params,\n",
    "                                                   state, action)\n",
    "obs_jax, reward_jax, done_jax"
   ]
  },
  {
   "cell_type": "code",
   "execution_count": null,
   "metadata": {},
   "outputs": [],
   "source": []
  }
 ],
 "metadata": {
  "kernelspec": {
   "display_name": "Python3 (ma-vision)",
   "language": "python",
   "name": "ma-vision"
  },
  "language_info": {
   "codemirror_mode": {
    "name": "ipython",
    "version": 3
   },
   "file_extension": ".py",
   "mimetype": "text/x-python",
   "name": "python",
   "nbconvert_exporter": "python",
   "pygments_lexer": "ipython3",
   "version": "3.6.9"
  }
 },
 "nbformat": 4,
 "nbformat_minor": 4
}
