{
 "cells": [
  {
   "cell_type": "code",
   "execution_count": 1,
   "metadata": {},
   "outputs": [],
   "source": [
    "%matplotlib inline\n",
    "%load_ext autoreload\n",
    "%autoreload 2\n",
    "%config InlineBackend.figure_format = 'retina'\n",
    "\n",
    "import jax\n",
    "import jax.numpy as jnp\n",
    "import numpy as np\n",
    "import gym\n",
    "import gymnax"
   ]
  },
  {
   "cell_type": "code",
   "execution_count": 2,
   "metadata": {},
   "outputs": [],
   "source": [
    "# jit_step = jax.jit(env.step)\n",
    "# vmap_step = jax.vmap(jit_step, in_axes=(0, None, None))(jax.random.split(rng, 10), state, 0)\n",
    "# vmap_step\n",
    "# env.name\n",
    "# env.update_env_params(\"gravity\", 10)\n",
    "# env.params"
   ]
  },
  {
   "cell_type": "markdown",
   "metadata": {},
   "source": [
    "# Pendulum-v0\n",
    "### 2D State Space, 3D Obs Space, 1D Action Space [Continuous - Torque]\n"
   ]
  },
  {
   "cell_type": "code",
   "execution_count": 3,
   "metadata": {},
   "outputs": [
    {
     "name": "stderr",
     "output_type": "stream",
     "text": [
      "WARNING:absl:No GPU/TPU found, falling back to CPU. (Set TF_CPP_MIN_LOG_LEVEL=0 and rerun for more info.)\n"
     ]
    }
   ],
   "source": [
    "# 1. Create gymnax based environment\n",
    "rng, env = gymnax.make(\"Pendulum-v0\")\n",
    "rng, key_reset, key_step, key_action = jax.random.split(rng, 4)\n",
    "obs, state = env.reset(key_reset)\n",
    "\n",
    "# 2. Setup gym-based environment, get state dict\n",
    "env_gym = gym.make(\"Pendulum-v0\")\n",
    "_ = env_gym.reset()\n",
    "state = gymnax.utils.np_state_to_jax(env_gym, \"Pendulum-v0\")\n",
    "\n",
    "# 3. Transition in both environments\n",
    "action = env.action_space.sample(key_action)\n",
    "obs_gym, reward_gym, done_gym, _ = env_gym.step(np.array([action]))\n",
    "obs_jax, state_jax, reward_jax, done_jax, _ = env.step(key_step, state, action)\n",
    "\n",
    "# 4a. Check correctness of transition\n",
    "gymnax.utils.assert_correct_transit(obs_gym, reward_gym, done_gym,\n",
    "                                    obs_jax, reward_jax, done_jax)\n",
    "\n",
    "# 4b. Check that post-transition states are equal\n",
    "gymnax.utils.assert_correct_state(env_gym, \"Pendulum-v0\", state_jax)"
   ]
  },
  {
   "cell_type": "markdown",
   "metadata": {},
   "source": [
    "# CartPole-v0\n",
    "#### 4D State = Obs Space, 1D Action Space [Discrete - Left, Right]"
   ]
  },
  {
   "cell_type": "code",
   "execution_count": 4,
   "metadata": {},
   "outputs": [
    {
     "name": "stderr",
     "output_type": "stream",
     "text": [
      "/Users/rtl/anaconda2/envs/ma-vision/lib/python3.6/site-packages/jax/_src/numpy/lax_numpy.py:5031: UserWarning: Explicitly requested dtype <class 'jax._src.numpy.lax_numpy.int64'> requested in astype is not available, and will be truncated to dtype int32. To enable more dtypes, set the jax_enable_x64 configuration option or the JAX_ENABLE_X64 shell environment variable. See https://github.com/google/jax#current-gotchas for more.\n",
      "  lax._check_user_dtype_supported(dtype, \"astype\")\n"
     ]
    },
    {
     "ename": "AssertionError",
     "evalue": "DeviceArray(0, dtype=int32) (<class 'jax.interpreters.xla._DeviceArray'>) invalid",
     "output_type": "error",
     "traceback": [
      "\u001b[0;31m---------------------------------------------------------------------------\u001b[0m",
      "\u001b[0;31mAssertionError\u001b[0m                            Traceback (most recent call last)",
      "\u001b[0;32m<ipython-input-4-57b1d8f13ca8>\u001b[0m in \u001b[0;36m<module>\u001b[0;34m\u001b[0m\n\u001b[1;32m     11\u001b[0m \u001b[0;31m# 3. Transition in both environments\u001b[0m\u001b[0;34m\u001b[0m\u001b[0;34m\u001b[0m\u001b[0;34m\u001b[0m\u001b[0m\n\u001b[1;32m     12\u001b[0m \u001b[0maction\u001b[0m \u001b[0;34m=\u001b[0m \u001b[0menv\u001b[0m\u001b[0;34m.\u001b[0m\u001b[0maction_space\u001b[0m\u001b[0;34m.\u001b[0m\u001b[0msample\u001b[0m\u001b[0;34m(\u001b[0m\u001b[0mkey_action\u001b[0m\u001b[0;34m)\u001b[0m\u001b[0;34m\u001b[0m\u001b[0;34m\u001b[0m\u001b[0m\n\u001b[0;32m---> 13\u001b[0;31m \u001b[0mobs_gym\u001b[0m\u001b[0;34m,\u001b[0m \u001b[0mreward_gym\u001b[0m\u001b[0;34m,\u001b[0m \u001b[0mdone_gym\u001b[0m\u001b[0;34m,\u001b[0m \u001b[0m_\u001b[0m \u001b[0;34m=\u001b[0m \u001b[0menv_gym\u001b[0m\u001b[0;34m.\u001b[0m\u001b[0mstep\u001b[0m\u001b[0;34m(\u001b[0m\u001b[0maction\u001b[0m\u001b[0;34m)\u001b[0m\u001b[0;34m\u001b[0m\u001b[0;34m\u001b[0m\u001b[0m\n\u001b[0m\u001b[1;32m     14\u001b[0m \u001b[0mobs_jax\u001b[0m\u001b[0;34m,\u001b[0m \u001b[0mstate_jax\u001b[0m\u001b[0;34m,\u001b[0m \u001b[0mreward_jax\u001b[0m\u001b[0;34m,\u001b[0m \u001b[0mdone_jax\u001b[0m\u001b[0;34m,\u001b[0m \u001b[0m_\u001b[0m \u001b[0;34m=\u001b[0m \u001b[0menv\u001b[0m\u001b[0;34m.\u001b[0m\u001b[0mstep\u001b[0m\u001b[0;34m(\u001b[0m\u001b[0mkey_step\u001b[0m\u001b[0;34m,\u001b[0m \u001b[0mstate\u001b[0m\u001b[0;34m,\u001b[0m \u001b[0maction\u001b[0m\u001b[0;34m)\u001b[0m\u001b[0;34m\u001b[0m\u001b[0;34m\u001b[0m\u001b[0m\n\u001b[1;32m     15\u001b[0m \u001b[0;34m\u001b[0m\u001b[0m\n",
      "\u001b[0;32m~/anaconda2/envs/ma-vision/lib/python3.6/site-packages/gym/wrappers/time_limit.py\u001b[0m in \u001b[0;36mstep\u001b[0;34m(self, action)\u001b[0m\n\u001b[1;32m     14\u001b[0m     \u001b[0;32mdef\u001b[0m \u001b[0mstep\u001b[0m\u001b[0;34m(\u001b[0m\u001b[0mself\u001b[0m\u001b[0;34m,\u001b[0m \u001b[0maction\u001b[0m\u001b[0;34m)\u001b[0m\u001b[0;34m:\u001b[0m\u001b[0;34m\u001b[0m\u001b[0;34m\u001b[0m\u001b[0m\n\u001b[1;32m     15\u001b[0m         \u001b[0;32massert\u001b[0m \u001b[0mself\u001b[0m\u001b[0;34m.\u001b[0m\u001b[0m_elapsed_steps\u001b[0m \u001b[0;32mis\u001b[0m \u001b[0;32mnot\u001b[0m \u001b[0;32mNone\u001b[0m\u001b[0;34m,\u001b[0m \u001b[0;34m\"Cannot call env.step() before calling reset()\"\u001b[0m\u001b[0;34m\u001b[0m\u001b[0;34m\u001b[0m\u001b[0m\n\u001b[0;32m---> 16\u001b[0;31m         \u001b[0mobservation\u001b[0m\u001b[0;34m,\u001b[0m \u001b[0mreward\u001b[0m\u001b[0;34m,\u001b[0m \u001b[0mdone\u001b[0m\u001b[0;34m,\u001b[0m \u001b[0minfo\u001b[0m \u001b[0;34m=\u001b[0m \u001b[0mself\u001b[0m\u001b[0;34m.\u001b[0m\u001b[0menv\u001b[0m\u001b[0;34m.\u001b[0m\u001b[0mstep\u001b[0m\u001b[0;34m(\u001b[0m\u001b[0maction\u001b[0m\u001b[0;34m)\u001b[0m\u001b[0;34m\u001b[0m\u001b[0;34m\u001b[0m\u001b[0m\n\u001b[0m\u001b[1;32m     17\u001b[0m         \u001b[0mself\u001b[0m\u001b[0;34m.\u001b[0m\u001b[0m_elapsed_steps\u001b[0m \u001b[0;34m+=\u001b[0m \u001b[0;36m1\u001b[0m\u001b[0;34m\u001b[0m\u001b[0;34m\u001b[0m\u001b[0m\n\u001b[1;32m     18\u001b[0m         \u001b[0;32mif\u001b[0m \u001b[0mself\u001b[0m\u001b[0;34m.\u001b[0m\u001b[0m_elapsed_steps\u001b[0m \u001b[0;34m>=\u001b[0m \u001b[0mself\u001b[0m\u001b[0;34m.\u001b[0m\u001b[0m_max_episode_steps\u001b[0m\u001b[0;34m:\u001b[0m\u001b[0;34m\u001b[0m\u001b[0;34m\u001b[0m\u001b[0m\n",
      "\u001b[0;32m~/anaconda2/envs/ma-vision/lib/python3.6/site-packages/gym/envs/classic_control/cartpole.py\u001b[0m in \u001b[0;36mstep\u001b[0;34m(self, action)\u001b[0m\n\u001b[1;32m     90\u001b[0m \u001b[0;34m\u001b[0m\u001b[0m\n\u001b[1;32m     91\u001b[0m     \u001b[0;32mdef\u001b[0m \u001b[0mstep\u001b[0m\u001b[0;34m(\u001b[0m\u001b[0mself\u001b[0m\u001b[0;34m,\u001b[0m \u001b[0maction\u001b[0m\u001b[0;34m)\u001b[0m\u001b[0;34m:\u001b[0m\u001b[0;34m\u001b[0m\u001b[0;34m\u001b[0m\u001b[0m\n\u001b[0;32m---> 92\u001b[0;31m         \u001b[0;32massert\u001b[0m \u001b[0mself\u001b[0m\u001b[0;34m.\u001b[0m\u001b[0maction_space\u001b[0m\u001b[0;34m.\u001b[0m\u001b[0mcontains\u001b[0m\u001b[0;34m(\u001b[0m\u001b[0maction\u001b[0m\u001b[0;34m)\u001b[0m\u001b[0;34m,\u001b[0m \u001b[0;34m\"%r (%s) invalid\"\u001b[0m\u001b[0;34m%\u001b[0m\u001b[0;34m(\u001b[0m\u001b[0maction\u001b[0m\u001b[0;34m,\u001b[0m \u001b[0mtype\u001b[0m\u001b[0;34m(\u001b[0m\u001b[0maction\u001b[0m\u001b[0;34m)\u001b[0m\u001b[0;34m)\u001b[0m\u001b[0;34m\u001b[0m\u001b[0;34m\u001b[0m\u001b[0m\n\u001b[0m\u001b[1;32m     93\u001b[0m         \u001b[0mstate\u001b[0m \u001b[0;34m=\u001b[0m \u001b[0mself\u001b[0m\u001b[0;34m.\u001b[0m\u001b[0mstate\u001b[0m\u001b[0;34m\u001b[0m\u001b[0;34m\u001b[0m\u001b[0m\n\u001b[1;32m     94\u001b[0m         \u001b[0mx\u001b[0m\u001b[0;34m,\u001b[0m \u001b[0mx_dot\u001b[0m\u001b[0;34m,\u001b[0m \u001b[0mtheta\u001b[0m\u001b[0;34m,\u001b[0m \u001b[0mtheta_dot\u001b[0m \u001b[0;34m=\u001b[0m \u001b[0mstate\u001b[0m\u001b[0;34m\u001b[0m\u001b[0;34m\u001b[0m\u001b[0m\n",
      "\u001b[0;31mAssertionError\u001b[0m: DeviceArray(0, dtype=int32) (<class 'jax.interpreters.xla._DeviceArray'>) invalid"
     ]
    }
   ],
   "source": [
    "# 1. Create gymnax based environment\n",
    "rng, env = gymnax.make(\"CartPole-v0\")\n",
    "rng, key_reset, key_step, key_action = jax.random.split(rng, 4)\n",
    "obs, state = env.reset(key_reset)\n",
    "\n",
    "# 2. Setup gym-based environment, get state dict\n",
    "env_gym = gym.make(\"CartPole-v0\")\n",
    "_ = env_gym.reset()\n",
    "state = gymnax.utils.np_state_to_jax(env_gym, \"CartPole-v0\")\n",
    "\n",
    "# 3. Transition in both environments\n",
    "action = env.action_space.sample(key_action)\n",
    "obs_gym, reward_gym, done_gym, _ = env_gym.step(action)\n",
    "obs_jax, state_jax, reward_jax, done_jax, _ = env.step(key_step, state, action)\n",
    "\n",
    "# 4a. Check correctness of transition\n",
    "gymnax.utils.assert_correct_transit(obs_gym, reward_gym, done_gym,\n",
    "                                    obs_jax, reward_jax, done_jax)\n",
    "\n",
    "# 4b. Check that post-transition states are equal\n",
    "gymnax.utils.assert_correct_state(env_gym, \"CartPole-v0\", state_jax)"
   ]
  },
  {
   "cell_type": "markdown",
   "metadata": {},
   "source": [
    "# MountainCar-v0\n",
    "#### 2D State = Obs Space, 1D Action Space [Discrete - Acc. Left, No Acc., Acc. Right]"
   ]
  },
  {
   "cell_type": "code",
   "execution_count": null,
   "metadata": {},
   "outputs": [],
   "source": [
    "# 1. Create gymnax based environment\n",
    "rng, env = gymnax.make(\"MountainCar-v0\")\n",
    "rng, key_reset, key_step, key_action = jax.random.split(rng, 4)\n",
    "obs, state = env.reset(key_reset)\n",
    "\n",
    "# 2. Setup gym-based environment, get state dict\n",
    "env_gym = gym.make(\"MountainCar-v0\")\n",
    "_ = env_gym.reset()\n",
    "state = gymnax.utils.np_state_to_jax(env_gym, \"MountainCar-v0\")\n",
    "\n",
    "# 3. Transition in both environments\n",
    "action = env.action_space.sample(key_action)\n",
    "obs_gym, reward_gym, done_gym, _ = env_gym.step(action)\n",
    "obs_jax, state_jax, reward_jax, done_jax, _ = env.step(key_step, state, action)\n",
    "\n",
    "# 4a. Check correctness of transition\n",
    "gymnax.utils.assert_correct_transit(obs_gym, reward_gym, done_gym,\n",
    "                                    obs_jax, reward_jax, done_jax)\n",
    "\n",
    "# 4b. Check that post-transition states are equal\n",
    "gymnax.utils.assert_correct_state(env_gym, \"MountainCar-v0\", state_jax)"
   ]
  },
  {
   "cell_type": "markdown",
   "metadata": {},
   "source": [
    "# MountainCarContinuous-v0\n",
    "#### 2D State = Obs Space, 1D Action Space [Cont.: -1, 1]"
   ]
  },
  {
   "cell_type": "code",
   "execution_count": null,
   "metadata": {},
   "outputs": [],
   "source": [
    "# 1. Create gymnax based environment\n",
    "rng, env = gymnax.make(\"MountainCarContinuous-v0\")\n",
    "rng, key_reset, key_step, key_action = jax.random.split(rng, 4)\n",
    "obs, state = env.reset(key_reset)\n",
    "\n",
    "# 2. Setup gym-based environment, get state dict\n",
    "env_gym = gym.make(\"MountainCarContinuous-v0\")\n",
    "_ = env_gym.reset()\n",
    "state = gymnax.utils.np_state_to_jax(env_gym, \"MountainCarContinuous-v0\")\n",
    "\n",
    "# 3. Transition in both environments\n",
    "action = env.action_space.sample(key_action)\n",
    "obs_gym, reward_gym, done_gym, _ = env_gym.step(jnp.array([action]))\n",
    "obs_jax, state_jax, reward_jax, done_jax, _ = env.step(key_step, state, action)\n",
    "\n",
    "# 4a. Check correctness of transition\n",
    "gymnax.utils.assert_correct_transit(obs_gym, reward_gym, done_gym,\n",
    "                                    obs_jax, reward_jax, done_jax)\n",
    "\n",
    "# 4b. Check that post-transition states are equal\n",
    "gymnax.utils.assert_correct_state(env_gym, \"MountainCarContinuous-v0\", state_jax)"
   ]
  },
  {
   "cell_type": "markdown",
   "metadata": {},
   "source": [
    "# Acrobot-v1\n",
    "#### 6D State = Obs Space, 1D Action Space [Cont.: -1, 1]"
   ]
  },
  {
   "cell_type": "code",
   "execution_count": null,
   "metadata": {},
   "outputs": [],
   "source": [
    "# 1. Create gymnax based environment\n",
    "rng, env = gymnax.make(\"Acrobot-v1\")\n",
    "rng, key_reset, key_step, key_action = jax.random.split(rng, 4)\n",
    "obs, state = env.reset(key_reset)\n",
    "\n",
    "# 2. Setup gym-based environment, get state dict\n",
    "env_gym = gym.make(\"Acrobot-v1\")\n",
    "_ = env_gym.reset()\n",
    "state = gymnax.utils.np_state_to_jax(env_gym, \"Acrobot-v1\")\n",
    "\n",
    "# 3. Transition in both environments\n",
    "action = env.action_space.sample(key_action)\n",
    "obs_gym, reward_gym, done_gym, _ = env_gym.step(action)\n",
    "obs_jax, state_jax, reward_jax, done_jax, _ = env.step(key_step, state, action)\n",
    "\n",
    "# 4a. Check correctness of transition\n",
    "gymnax.utils.assert_correct_transit(obs_gym, reward_gym, done_gym,\n",
    "                                    obs_jax, reward_jax, done_jax)\n",
    "\n",
    "# 4b. Check that post-transition states are equal\n",
    "gymnax.utils.assert_correct_state(env_gym, \"Acrobot-v1\", state_jax)"
   ]
  },
  {
   "cell_type": "code",
   "execution_count": null,
   "metadata": {},
   "outputs": [],
   "source": []
  }
 ],
 "metadata": {
  "kernelspec": {
   "display_name": "Python3 (ma-vision)",
   "language": "python",
   "name": "ma-vision"
  },
  "language_info": {
   "codemirror_mode": {
    "name": "ipython",
    "version": 3
   },
   "file_extension": ".py",
   "mimetype": "text/x-python",
   "name": "python",
   "nbconvert_exporter": "python",
   "pygments_lexer": "ipython3",
   "version": "3.6.9"
  }
 },
 "nbformat": 4,
 "nbformat_minor": 4
}
