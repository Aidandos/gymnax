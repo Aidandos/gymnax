{
 "cells": [
  {
   "cell_type": "code",
   "execution_count": 1,
   "metadata": {},
   "outputs": [],
   "source": [
    "%matplotlib inline\n",
    "%load_ext autoreload\n",
    "%autoreload 2\n",
    "%config InlineBackend.figure_format = 'retina'\n",
    "\n",
    "import jax\n",
    "import jax.numpy as jnp\n",
    "import numpy as np\n",
    "import gymnax\n",
    "from minatar import Environment\n",
    "\n",
    "import matplotlib.pyplot as plt"
   ]
  },
  {
   "cell_type": "code",
   "execution_count": 2,
   "metadata": {},
   "outputs": [
    {
     "name": "stderr",
     "output_type": "stream",
     "text": [
      "WARNING:absl:No GPU/TPU found, falling back to CPU. (Set TF_CPP_MIN_LOG_LEVEL=0 and rerun for more info.)\n"
     ]
    }
   ],
   "source": [
    "rng, env = gymnax.make(\"Asterix-MinAtar\")\n",
    "obs, state = env.reset(rng)\n",
    "n_obs, n_state, reward, done, info = env.step(rng, state, 0)"
   ]
  },
  {
   "cell_type": "code",
   "execution_count": 3,
   "metadata": {},
   "outputs": [],
   "source": [
    "rng, env = gymnax.make(\"Breakout-MinAtar\")\n",
    "obs, state = env.reset(rng)\n",
    "n_obs, n_state, reward, done, info = env.step(rng, state, 0)"
   ]
  },
  {
   "cell_type": "code",
   "execution_count": 4,
   "metadata": {},
   "outputs": [
    {
     "name": "stderr",
     "output_type": "stream",
     "text": [
      "/Users/rtl/anaconda2/envs/ma-vision/lib/python3.6/site-packages/jax/_src/numpy/lax_numpy.py:2783: UserWarning: Explicitly requested dtype <class 'jax._src.numpy.lax_numpy.int64'> requested in array is not available, and will be truncated to dtype int32. To enable more dtypes, set the jax_enable_x64 configuration option or the JAX_ENABLE_X64 shell environment variable. See https://github.com/google/jax#current-gotchas for more.\n",
      "  lax._check_user_dtype_supported(dtype, \"array\")\n"
     ]
    }
   ],
   "source": [
    "rng, env = gymnax.make(\"Freeway-MinAtar\")\n",
    "obs, state = env.reset(rng)\n",
    "n_obs, n_state, reward, done, info = env.step(rng, state, 0)"
   ]
  },
  {
   "cell_type": "code",
   "execution_count": null,
   "metadata": {},
   "outputs": [],
   "source": [
    "rng, env = gymnax.make(\"SpaceInvaders-MinAtar\")\n",
    "obs, state = env.reset(rng)\n",
    "n_obs, n_state, reward, done, info = env.step(rng, state, 0)"
   ]
  },
  {
   "cell_type": "markdown",
   "metadata": {},
   "source": [
    "# Asterix MinAtar Environment"
   ]
  },
  {
   "cell_type": "code",
   "execution_count": null,
   "metadata": {},
   "outputs": [],
   "source": [
    "# 2D State Space, 3D Obs Space, 1D Action Space [Continuous - Torque]\n",
    "rng, reset, step, env_params = gymnax.make(\"Asterix-MinAtar\")\n",
    "rng, key_reset, key_step = jax.random.split(rng, 3)\n",
    "obs, state = reset(key_reset, env_params)"
   ]
  },
  {
   "cell_type": "code",
   "execution_count": null,
   "metadata": {},
   "outputs": [],
   "source": [
    "fig, axs = plt.subplots(2, 3)\n",
    "for i in range(5):\n",
    "    axs.flatten()[i].imshow(obs[:, :, i])"
   ]
  },
  {
   "cell_type": "code",
   "execution_count": null,
   "metadata": {},
   "outputs": [],
   "source": [
    "obs.shape, state"
   ]
  },
  {
   "cell_type": "code",
   "execution_count": null,
   "metadata": {},
   "outputs": [],
   "source": [
    "env = Environment(\"asterix\")\n",
    "obs = env.reset()\n",
    "action = 1\n",
    "reward_gym, done_gym = env.act(action)\n",
    "obs_gym = env.state()\n",
    "reward_gym, done_gym, obs_gym.shape"
   ]
  },
  {
   "cell_type": "code",
   "execution_count": null,
   "metadata": {},
   "outputs": [],
   "source": [
    "state"
   ]
  },
  {
   "cell_type": "code",
   "execution_count": null,
   "metadata": {},
   "outputs": [],
   "source": [
    "obs_jax, state_jax, reward_jax, done_jax, _ = step(key_step, env_params,\n",
    "                                                   state, action)\n",
    "state_jax, reward_jax, done_jax"
   ]
  },
  {
   "cell_type": "markdown",
   "metadata": {},
   "source": [
    "# Breakout MinAtar Environment"
   ]
  },
  {
   "cell_type": "code",
   "execution_count": null,
   "metadata": {},
   "outputs": [],
   "source": [
    "env = Environment(\"breakout\", sticky_action_prob =0.0)\n",
    "env.reset()\n",
    "obs_gym = env.state()"
   ]
  },
  {
   "cell_type": "code",
   "execution_count": null,
   "metadata": {},
   "outputs": [],
   "source": [
    "state = {'ball_dir': env.env.ball_dir,\n",
    "         'ball_x': env.env.ball_x,\n",
    "         'ball_y': env.env.ball_y,\n",
    "         'brick_map': env.env.brick_map,\n",
    "         'last_x': env.env.last_x,\n",
    "         'last_y': env.env.last_y,\n",
    "         'pos': env.env.pos,\n",
    "         'strike': env.env.strike,\n",
    "         'terminal': env.env.terminal}"
   ]
  },
  {
   "cell_type": "code",
   "execution_count": null,
   "metadata": {},
   "outputs": [],
   "source": [
    "action = 1\n",
    "reward_gym, done_gym = env.act(action)\n",
    "next_obs_gym = env.state()\n",
    "reward_gym, done_gym, obs_gym.shape"
   ]
  },
  {
   "cell_type": "code",
   "execution_count": null,
   "metadata": {},
   "outputs": [],
   "source": [
    "# 2D State Space, 3D Obs Space, 1D Action Space [Continuous - Torque]\n",
    "rng, reset, step, env_params = gymnax.make(\"Breakout-MinAtar\")\n",
    "rng, key_reset, key_step = jax.random.split(rng, 3)\n",
    "o, s = reset(key_reset, env_params)"
   ]
  },
  {
   "cell_type": "code",
   "execution_count": null,
   "metadata": {},
   "outputs": [],
   "source": [
    "obs_jax, state_jax, reward_jax, done_jax, _ = step(key_step, env_params,\n",
    "                                                   state, action)\n",
    "state_jax, reward_jax, done_jax"
   ]
  },
  {
   "cell_type": "code",
   "execution_count": null,
   "metadata": {},
   "outputs": [],
   "source": [
    "(obs_jax == next_obs_gym).all()"
   ]
  },
  {
   "cell_type": "code",
   "execution_count": null,
   "metadata": {},
   "outputs": [],
   "source": [
    "seed = 3\n",
    "env = Environment(\"breakout\", sticky_action_prob =0.0, random_seed=seed)\n",
    "env.reset()\n",
    "np.random.seed(seed)\n",
    "action_space = [1, 3]\n",
    "for i in range(10):\n",
    "    # print(\"pos gym pre\", env.env.pos)\n",
    "    state_jax = {'ball_dir': env.env.ball_dir,\n",
    "                 'ball_x': env.env.ball_x,\n",
    "                 'ball_y': env.env.ball_y,\n",
    "                 'brick_map': env.env.brick_map,\n",
    "                 'last_x': env.env.last_x,\n",
    "                 'last_y': env.env.last_y,\n",
    "                 'pos': env.env.pos,\n",
    "                 'strike': env.env.strike,\n",
    "                 'terminal': env.env.terminal}\n",
    "    action = np.random.choice(action_space)\n",
    "    #print(\"gym_pre\", env.env.ball_x, env.env.ball_y , env.env.pos)\n",
    "    reward_gym, done_gym = env.act(action)\n",
    "    #print(\"pos gym post\", env.env.pos, print(done_gym))\n",
    "    next_obs_gym = env.state()\n",
    "    #print(\"gym_post\", env.env.ball_x, env.env.ball_y , env.env.pos)\n",
    "    \n",
    "    obs_jax, state_jax, reward_jax, done_jax, _ = step(key_step, env_params,\n",
    "                                                       state_jax, action)\n",
    "    #print(done_jax)\n",
    "    \n",
    "    #print(i, \"==========\")\n",
    "    if not (obs_jax == next_obs_gym).all():\n",
    "        print(\"===\")\n",
    "        print(\"Problem\")\n",
    "        for i in range(4):\n",
    "            print((obs_jax[:, :, i] == next_obs_gym[:, :, i]).all())\n",
    "        break\n",
    "    if done_gym:\n",
    "        break\n",
    "    "
   ]
  },
  {
   "cell_type": "code",
   "execution_count": null,
   "metadata": {},
   "outputs": [],
   "source": [
    "(obs_jax[:, :, 1] == next_obs_gym[:, :, 1]).all()"
   ]
  },
  {
   "cell_type": "code",
   "execution_count": null,
   "metadata": {},
   "outputs": [],
   "source": [
    "fig, axs = plt.subplots(2, 2)\n",
    "for i in range(4):\n",
    "    axs.flatten()[i].imshow(next_obs_gym[:, :, i])"
   ]
  },
  {
   "cell_type": "code",
   "execution_count": null,
   "metadata": {},
   "outputs": [],
   "source": [
    "fig, axs = plt.subplots(2, 2)\n",
    "for i in range(4):\n",
    "    axs.flatten()[i].imshow(obs_jax[:, :, i])"
   ]
  },
  {
   "cell_type": "markdown",
   "metadata": {},
   "source": [
    "# Freeway MinAtar Environment"
   ]
  },
  {
   "cell_type": "code",
   "execution_count": null,
   "metadata": {},
   "outputs": [],
   "source": [
    "# 2D State Space, 3D Obs Space, 1D Action Space [Continuous - Torque]\n",
    "rng, reset, step, env_params = gymnax.make(\"Freeway-MinAtar\")\n",
    "rng, key_reset, key_step = jax.random.split(rng, 3)\n",
    "obs, state = reset(key_reset, env_params)"
   ]
  },
  {
   "cell_type": "code",
   "execution_count": null,
   "metadata": {},
   "outputs": [],
   "source": [
    "env = Environment(\"freeway\", sticky_action_prob =0.0)\n",
    "env.reset()\n",
    "obs_gym = env.state()\n",
    "state_jax = {\"pos\": env.env.pos,\n",
    "             \"cars\": jnp.array(env.env.cars),\n",
    "             \"move_timer\": env.env.move_timer,\n",
    "             \"terminate_timer\": env.env.terminate_timer,\n",
    "             \"terminal\": env.env.terminal}\n",
    "\n",
    "action = 2\n",
    "reward_gym, done_gym = env.act(action)\n",
    "next_obs_gym = env.state()\n",
    "reward_gym, done_gym, obs_gym.shape\n",
    "state_next_jax = {\"pos\": env.env.pos,\n",
    "             \"cars\": jnp.array(env.env.cars),\n",
    "             \"move_timer\": env.env.move_timer,\n",
    "             \"terminate_timer\": env.env.terminate_timer,\n",
    "             \"terminal\": env.env.terminal}"
   ]
  },
  {
   "cell_type": "code",
   "execution_count": null,
   "metadata": {},
   "outputs": [],
   "source": [
    "state_jax, state_next_jax"
   ]
  },
  {
   "cell_type": "code",
   "execution_count": null,
   "metadata": {},
   "outputs": [],
   "source": [
    "obs_jax, state_jax, reward_jax, done_jax, _ = step(key_step, env_params,\n",
    "                                                   state_jax, action)\n",
    "state_jax, reward_jax, done_jax"
   ]
  },
  {
   "cell_type": "code",
   "execution_count": null,
   "metadata": {},
   "outputs": [],
   "source": [
    "fig, axs = plt.subplots(2, 4)\n",
    "for i in range(7):\n",
    "    axs.flatten()[i].imshow(obs[:, :, i])"
   ]
  },
  {
   "cell_type": "markdown",
   "metadata": {},
   "source": [
    "# Seaquest MinAtar Environment"
   ]
  },
  {
   "cell_type": "code",
   "execution_count": null,
   "metadata": {},
   "outputs": [],
   "source": [
    "# 2D State Space, 3D Obs Space, 1D Action Space [Continuous - Torque]\n",
    "rng, reset, step, env_params = gymnax.make(\"Seaquest-MinAtar\")\n",
    "rng, key_reset, key_step = jax.random.split(rng, 3)\n",
    "obs, state = reset(key_reset, env_params)"
   ]
  },
  {
   "cell_type": "markdown",
   "metadata": {},
   "source": [
    "# SpaceInvaders MinAtar Environment"
   ]
  },
  {
   "cell_type": "code",
   "execution_count": null,
   "metadata": {},
   "outputs": [],
   "source": [
    "# 2D State Space, 3D Obs Space, 1D Action Space [Continuous - Torque]\n",
    "rng, reset, step, env_params = gymnax.make(\"SpaceInvaders-MinAtar\")\n",
    "rng, key_reset, key_step = jax.random.split(rng, 3)\n",
    "obs, state = reset(key_reset, env_params)"
   ]
  },
  {
   "cell_type": "code",
   "execution_count": null,
   "metadata": {},
   "outputs": [],
   "source": [
    "env = Environment(\"space_invaders\", sticky_action_prob=0.0)\n",
    "env.reset()\n",
    "obs_gym = env.state()\n"
   ]
  },
  {
   "cell_type": "code",
   "execution_count": null,
   "metadata": {},
   "outputs": [],
   "source": [
    "env.act(1)"
   ]
  },
  {
   "cell_type": "code",
   "execution_count": null,
   "metadata": {},
   "outputs": [],
   "source": []
  }
 ],
 "metadata": {
  "kernelspec": {
   "display_name": "Python3 (ma-vision)",
   "language": "python",
   "name": "ma-vision"
  },
  "language_info": {
   "codemirror_mode": {
    "name": "ipython",
    "version": 3
   },
   "file_extension": ".py",
   "mimetype": "text/x-python",
   "name": "python",
   "nbconvert_exporter": "python",
   "pygments_lexer": "ipython3",
   "version": "3.6.9"
  }
 },
 "nbformat": 4,
 "nbformat_minor": 4
}
