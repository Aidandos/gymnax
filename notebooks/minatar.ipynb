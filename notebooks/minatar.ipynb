{
 "cells": [
  {
   "cell_type": "code",
   "execution_count": 1,
   "metadata": {},
   "outputs": [
    {
     "name": "stderr",
     "output_type": "stream",
     "text": [
      "WARNING:absl:No GPU/TPU found, falling back to CPU. (Set TF_CPP_MIN_LOG_LEVEL=0 and rerun for more info.)\n"
     ]
    }
   ],
   "source": [
    "%matplotlib inline\n",
    "%load_ext autoreload\n",
    "%autoreload 2\n",
    "%config InlineBackend.figure_format = 'retina'\n",
    "\n",
    "import jax\n",
    "import jax.numpy as jnp\n",
    "import gymnax\n",
    "from minatar import Environment\n",
    "\n",
    "import matplotlib.pyplot as plt"
   ]
  },
  {
   "cell_type": "markdown",
   "metadata": {},
   "source": [
    "# Asterix MinAtar Environment"
   ]
  },
  {
   "cell_type": "code",
   "execution_count": null,
   "metadata": {},
   "outputs": [],
   "source": [
    "# 2D State Space, 3D Obs Space, 1D Action Space [Continuous - Torque]\n",
    "rng, reset, step, env_params = gymnax.make(\"Asterix-MinAtar\")\n",
    "rng, key_reset, key_step = jax.random.split(rng, 3)\n",
    "obs, state = reset(key_reset, env_params)"
   ]
  },
  {
   "cell_type": "code",
   "execution_count": null,
   "metadata": {},
   "outputs": [],
   "source": [
    "fig, axs = plt.subplots(2, 3)\n",
    "for i in range(5):\n",
    "    axs.flatten()[i].imshow(obs[:, :, i])"
   ]
  },
  {
   "cell_type": "code",
   "execution_count": null,
   "metadata": {},
   "outputs": [],
   "source": [
    "obs.shape, state"
   ]
  },
  {
   "cell_type": "code",
   "execution_count": null,
   "metadata": {},
   "outputs": [],
   "source": [
    "env = Environment(\"asterix\")\n",
    "obs = env.reset()\n",
    "action = 1\n",
    "reward_gym, done_gym = env.act(action)\n",
    "obs_gym = env.state()\n",
    "reward_gym, done_gym, obs_gym.shape"
   ]
  },
  {
   "cell_type": "code",
   "execution_count": null,
   "metadata": {},
   "outputs": [],
   "source": [
    "state"
   ]
  },
  {
   "cell_type": "code",
   "execution_count": null,
   "metadata": {},
   "outputs": [],
   "source": [
    "obs_jax, state_jax, reward_jax, done_jax, _ = step(key_step, env_params,\n",
    "                                                   state, action)\n",
    "state_jax, reward_jax, done_jax"
   ]
  },
  {
   "cell_type": "markdown",
   "metadata": {},
   "source": [
    "# Breakout MinAtar Environment"
   ]
  },
  {
   "cell_type": "code",
   "execution_count": 9,
   "metadata": {},
   "outputs": [],
   "source": [
    "# 2D State Space, 3D Obs Space, 1D Action Space [Continuous - Torque]\n",
    "rng, reset, step, env_params = gymnax.make(\"Breakout-MinAtar\")\n",
    "rng, key_reset, key_step = jax.random.split(rng, 3)\n",
    "obs, state = reset(key_reset, env_params)"
   ]
  },
  {
   "cell_type": "code",
   "execution_count": 10,
   "metadata": {},
   "outputs": [
    {
     "data": {
      "text/plain": [
       "(0, False, (10, 10, 4))"
      ]
     },
     "execution_count": 10,
     "metadata": {},
     "output_type": "execute_result"
    }
   ],
   "source": [
    "env = Environment(\"breakout\")\n",
    "obs = env.reset()\n",
    "action = 1\n",
    "reward_gym, done_gym = env.act(action)\n",
    "obs_gym = env.state()\n",
    "reward_gym, done_gym, obs_gym.shape"
   ]
  },
  {
   "cell_type": "code",
   "execution_count": 15,
   "metadata": {},
   "outputs": [
    {
     "data": {
      "text/plain": [
       "({'ball_dir': DeviceArray([2], dtype=int32),\n",
       "  'ball_x': DeviceArray([1], dtype=int32),\n",
       "  'ball_y': DeviceArray([4], dtype=int32),\n",
       "  'brick_map': DeviceArray([[0., 0., 0., 0., 0., 0., 0., 0., 0., 0.],\n",
       "               [1., 1., 1., 1., 1., 1., 1., 1., 1., 1.],\n",
       "               [1., 1., 1., 1., 1., 1., 1., 1., 1., 1.],\n",
       "               [1., 1., 1., 1., 1., 1., 1., 1., 1., 1.],\n",
       "               [0., 0., 0., 0., 0., 0., 0., 0., 0., 0.],\n",
       "               [0., 0., 0., 0., 0., 0., 0., 0., 0., 0.],\n",
       "               [0., 0., 0., 0., 0., 0., 0., 0., 0., 0.],\n",
       "               [0., 0., 0., 0., 0., 0., 0., 0., 0., 0.],\n",
       "               [0., 0., 0., 0., 0., 0., 0., 0., 0., 0.],\n",
       "               [0., 0., 0., 0., 0., 0., 0., 0., 0., 0.]], dtype=float32),\n",
       "  'last_x': DeviceArray([0], dtype=int32),\n",
       "  'last_y': DeviceArray(3, dtype=int32),\n",
       "  'pos': DeviceArray(3, dtype=int32),\n",
       "  'strike': DeviceArray([0], dtype=int32),\n",
       "  'terminal': DeviceArray([False], dtype=bool)},\n",
       " DeviceArray([0], dtype=int32),\n",
       " DeviceArray(False, dtype=bool))"
      ]
     },
     "execution_count": 15,
     "metadata": {},
     "output_type": "execute_result"
    }
   ],
   "source": [
    "obs_jax, state_jax, reward_jax, done_jax, _ = step(key_step, env_params,\n",
    "                                                   state, action)\n",
    "state_jax, reward_jax, done_jax"
   ]
  },
  {
   "cell_type": "code",
   "execution_count": null,
   "metadata": {},
   "outputs": [],
   "source": []
  }
 ],
 "metadata": {
  "kernelspec": {
   "display_name": "Python3 (ma-vision)",
   "language": "python",
   "name": "ma-vision"
  },
  "language_info": {
   "codemirror_mode": {
    "name": "ipython",
    "version": 3
   },
   "file_extension": ".py",
   "mimetype": "text/x-python",
   "name": "python",
   "nbconvert_exporter": "python",
   "pygments_lexer": "ipython3",
   "version": "3.6.9"
  }
 },
 "nbformat": 4,
 "nbformat_minor": 4
}
