{
 "cells": [
  {
   "cell_type": "code",
   "execution_count": 1,
   "metadata": {},
   "outputs": [],
   "source": [
    "%matplotlib inline\n",
    "%load_ext autoreload\n",
    "%autoreload 2\n",
    "%config InlineBackend.figure_format = 'retina'\n",
    "\n",
    "import jax\n",
    "import jax.numpy as jnp\n",
    "import numpy as np\n",
    "import gymnax\n",
    "from minatar import Environment\n",
    "\n",
    "import matplotlib.pyplot as plt"
   ]
  },
  {
   "cell_type": "markdown",
   "metadata": {},
   "source": [
    "# Freeway MinAtar Environment"
   ]
  },
  {
   "cell_type": "code",
   "execution_count": 2,
   "metadata": {},
   "outputs": [
    {
     "name": "stderr",
     "output_type": "stream",
     "text": [
      "WARNING:absl:No GPU/TPU found, falling back to CPU. (Set TF_CPP_MIN_LOG_LEVEL=0 and rerun for more info.)\n",
      "/Users/rtl/anaconda2/envs/ma-vision/lib/python3.6/site-packages/jax/_src/numpy/lax_numpy.py:2783: UserWarning: Explicitly requested dtype <class 'jax._src.numpy.lax_numpy.int64'> requested in array is not available, and will be truncated to dtype int32. To enable more dtypes, set the jax_enable_x64 configuration option or the JAX_ENABLE_X64 shell environment variable. See https://github.com/google/jax#current-gotchas for more.\n",
      "  lax._check_user_dtype_supported(dtype, \"array\")\n",
      "/Users/rtl/anaconda2/envs/ma-vision/lib/python3.6/site-packages/jax/_src/numpy/lax_numpy.py:5031: UserWarning: Explicitly requested dtype <class 'jax._src.numpy.lax_numpy.int64'> requested in astype is not available, and will be truncated to dtype int32. To enable more dtypes, set the jax_enable_x64 configuration option or the JAX_ENABLE_X64 shell environment variable. See https://github.com/google/jax#current-gotchas for more.\n",
      "  lax._check_user_dtype_supported(dtype, \"astype\")\n"
     ]
    }
   ],
   "source": [
    "# 1. Create gymnax based environment\n",
    "rng, env = gymnax.make(\"Freeway-MinAtar\")\n",
    "rng, key_reset, key_step, key_action = jax.random.split(rng, 4)\n",
    "obs, state = env.reset(key_reset)\n",
    "\n",
    "# 2. Setup gym-based environment, get state dict\n",
    "env_gym = Environment(\"freeway\")\n",
    "_ = env_gym.reset()\n",
    "state = gymnax.utils.np_state_to_jax(env_gym, \"Freeway-MinAtar\")\n",
    "\n",
    "# 3. Transition in both environments\n",
    "action = env.action_space.sample(key_action)\n",
    "action_gym = gymnax.utils.minatar_action_map(action, \"Freeway-MinAtar\")\n",
    "reward_gym = env_gym.act(action_gym)\n",
    "obs_gym = env_gym.state()\n",
    "done_gym = env_gym.env.terminal\n",
    "obs_jax, state_jax, reward_jax, done_jax, _ = env.step(key_step, state, action)\n",
    "\n",
    "# 4a. Check correctness of transition\n",
    "gymnax.utils.assert_correct_transit(obs_gym, reward_gym, done_gym,\n",
    "                                    obs_jax, reward_jax, done_jax)\n",
    "\n",
    "# 4b. Check that post-transition states are equal\n",
    "gymnax.utils.assert_correct_state(env_gym, \"Freeway-MinAtar\", state_jax)"
   ]
  },
  {
   "cell_type": "markdown",
   "metadata": {},
   "source": [
    "# SpaceInvaders MinAtar Environment"
   ]
  },
  {
   "cell_type": "code",
   "execution_count": 3,
   "metadata": {},
   "outputs": [],
   "source": [
    "# 1. Create gymnax based environment\n",
    "rng, env = gymnax.make(\"SpaceInvaders-MinAtar\")\n",
    "rng, key_reset, key_step, key_action = jax.random.split(rng, 4)\n",
    "obs, state = env.reset(key_reset)\n",
    "\n",
    "# 2. Setup gym-based environment, get state dict\n",
    "env_gym = Environment(\"space_invaders\")\n",
    "_ = env_gym.reset()\n",
    "state = gymnax.utils.np_state_to_jax(env_gym, \"SpaceInvaders-MinAtar\")\n",
    "\n",
    "# 3. Transition in both environments\n",
    "action = env.action_space.sample(key_action)\n",
    "action_gym = gymnax.utils.minatar_action_map(action, \"SpaceInvaders-MinAtar\")\n",
    "reward_gym = env_gym.act(action_gym)\n",
    "obs_gym = env_gym.state()\n",
    "done_gym = env_gym.env.terminal\n",
    "obs_jax, state_jax, reward_jax, done_jax, _ = env.step(key_step, state, action)\n",
    "\n",
    "# 4a. Check correctness of transition\n",
    "gymnax.utils.assert_correct_transit(obs_gym, reward_gym, done_gym,\n",
    "                                    obs_jax, reward_jax, done_jax)\n",
    "\n",
    "# 4b. Check that post-transition states are equal\n",
    "gymnax.utils.assert_correct_state(env_gym, \"SpaceInvaders-MinAtar\", state_jax)\n"
   ]
  },
  {
   "cell_type": "markdown",
   "metadata": {},
   "source": [
    "# Breakout MinAtar Environment"
   ]
  },
  {
   "cell_type": "code",
   "execution_count": 5,
   "metadata": {},
   "outputs": [],
   "source": [
    "# 1. Create gymnax based environment\n",
    "rng, env = gymnax.make(\"Breakout-MinAtar\")\n",
    "rng, key_reset, key_step, key_action = jax.random.split(rng, 4)\n",
    "obs, state = env.reset(key_reset)\n",
    "\n",
    "# 2. Setup gym-based environment, get state dict\n",
    "env_gym = Environment(\"breakout\")\n",
    "_ = env_gym.reset()\n",
    "state = gymnax.utils.np_state_to_jax(env_gym, \"Breakout-MinAtar\")\n",
    "\n",
    "# 3. Transition in both environments\n",
    "action = env.action_space.sample(key_action)\n",
    "action_gym = gymnax.utils.minatar_action_map(action, \"Breakout-MinAtar\")\n",
    "reward_gym = env_gym.act(action_gym)\n",
    "obs_gym = env_gym.state()\n",
    "done_gym = env_gym.env.terminal\n",
    "obs_jax, state_jax, reward_jax, done_jax, _ = env.step(key_step, state, action)\n",
    "\n",
    "# 4a. Check correctness of transition\n",
    "gymnax.utils.assert_correct_transit(obs_gym, reward_gym, done_gym,\n",
    "                                    obs_jax, reward_jax, done_jax)\n",
    "\n",
    "# 4b. Check that post-transition states are equal\n",
    "gymnax.utils.assert_correct_state(env_gym, \"Breakout-MinAtar\", state_jax)"
   ]
  },
  {
   "cell_type": "markdown",
   "metadata": {},
   "source": [
    "# Asterix MinAtar Environment"
   ]
  },
  {
   "cell_type": "code",
   "execution_count": 16,
   "metadata": {},
   "outputs": [
    {
     "data": {
      "text/plain": [
       "{'player_x': 5,\n",
       " 'player_y': 5,\n",
       " 'shot_timer': 0,\n",
       " 'spawn_speed': 10,\n",
       " 'spawn_timer': 10,\n",
       " 'move_speed': 5,\n",
       " 'move_timer': 5,\n",
       " 'ramp_timer': 100,\n",
       " 'ramp_index': 0,\n",
       " 'entities': DeviceArray([[0, 0, 0, 0, 0],\n",
       "              [0, 0, 0, 0, 0],\n",
       "              [0, 0, 0, 0, 0],\n",
       "              [0, 0, 0, 0, 0],\n",
       "              [0, 0, 0, 0, 0],\n",
       "              [0, 0, 0, 0, 0],\n",
       "              [0, 0, 0, 0, 0],\n",
       "              [0, 0, 0, 0, 0]], dtype=int32),\n",
       " 'time': 0,\n",
       " 'terminal': 0}"
      ]
     },
     "execution_count": 16,
     "metadata": {},
     "output_type": "execute_result"
    }
   ],
   "source": [
    "# 1. Create gymnax based environment\n",
    "rng, env = gymnax.make(\"Asterix-MinAtar\")\n",
    "rng, key_reset, key_step, key_action = jax.random.split(rng, 4)\n",
    "obs, state = env.reset(key_reset)\n",
    "state"
   ]
  },
  {
   "cell_type": "code",
   "execution_count": 17,
   "metadata": {},
   "outputs": [
    {
     "data": {
      "text/plain": [
       "{'player_x': 5,\n",
       " 'player_y': 5,\n",
       " 'shot_timer': 0,\n",
       " 'spawn_speed': 10,\n",
       " 'spawn_timer': 10,\n",
       " 'move_speed': 5,\n",
       " 'move_timer': 5,\n",
       " 'ramp_timer': 100,\n",
       " 'ramp_index': 0,\n",
       " 'entities': DeviceArray([[0, 0, 0, 0, 0],\n",
       "              [0, 0, 0, 0, 0],\n",
       "              [0, 0, 0, 0, 0],\n",
       "              [0, 0, 0, 0, 0],\n",
       "              [0, 0, 0, 0, 0],\n",
       "              [0, 0, 0, 0, 0],\n",
       "              [0, 0, 0, 0, 0],\n",
       "              [0, 0, 0, 0, 0]], dtype=int32),\n",
       " 'time': 0,\n",
       " 'terminal': 0}"
      ]
     },
     "execution_count": 17,
     "metadata": {},
     "output_type": "execute_result"
    }
   ],
   "source": [
    "# 2. Setup gym-based environment, get state dict\n",
    "env_gym = Environment(\"asterix\")\n",
    "_ = env_gym.reset()\n",
    "state = gymnax.utils.np_state_to_jax(env_gym, \"Asterix-MinAtar\")\n",
    "state"
   ]
  },
  {
   "cell_type": "code",
   "execution_count": 18,
   "metadata": {},
   "outputs": [
    {
     "ename": "AssertionError",
     "evalue": "",
     "output_type": "error",
     "traceback": [
      "\u001b[0;31m---------------------------------------------------------------------------\u001b[0m",
      "\u001b[0;31mAssertionError\u001b[0m                            Traceback (most recent call last)",
      "\u001b[0;32m<ipython-input-18-d9f05ce39e8c>\u001b[0m in \u001b[0;36m<module>\u001b[0;34m\u001b[0m\n\u001b[1;32m      9\u001b[0m \u001b[0;31m# 4a. Check correctness of transition\u001b[0m\u001b[0;34m\u001b[0m\u001b[0;34m\u001b[0m\u001b[0;34m\u001b[0m\u001b[0m\n\u001b[1;32m     10\u001b[0m gymnax.utils.assert_correct_transit(obs_gym, reward_gym, done_gym,\n\u001b[0;32m---> 11\u001b[0;31m                                     obs_jax, reward_jax, done_jax)\n\u001b[0m\u001b[1;32m     12\u001b[0m \u001b[0;34m\u001b[0m\u001b[0m\n\u001b[1;32m     13\u001b[0m \u001b[0;31m# 4b. Check that post-transition states are equal\u001b[0m\u001b[0;34m\u001b[0m\u001b[0;34m\u001b[0m\u001b[0;34m\u001b[0m\u001b[0m\n",
      "\u001b[0;32m~/Dropbox/core-code/gymnax/gymnax/utils/test_helpers.py\u001b[0m in \u001b[0;36massert_correct_transit\u001b[0;34m(obs_gym, reward_gym, done_gym, obs_jax, reward_jax, done_jax, atol)\u001b[0m\n\u001b[1;32m     29\u001b[0m                            atol: float=1e-4):\n\u001b[1;32m     30\u001b[0m     \u001b[0;34m\"\"\" Check that obs, reward, done transition outputs are correct. \"\"\"\u001b[0m\u001b[0;34m\u001b[0m\u001b[0;34m\u001b[0m\u001b[0m\n\u001b[0;32m---> 31\u001b[0;31m     \u001b[0;32massert\u001b[0m \u001b[0mnp\u001b[0m\u001b[0;34m.\u001b[0m\u001b[0mallclose\u001b[0m\u001b[0;34m(\u001b[0m\u001b[0mobs_gym\u001b[0m\u001b[0;34m,\u001b[0m \u001b[0mobs_jax\u001b[0m\u001b[0;34m,\u001b[0m \u001b[0matol\u001b[0m\u001b[0;34m=\u001b[0m\u001b[0matol\u001b[0m\u001b[0;34m)\u001b[0m\u001b[0;34m\u001b[0m\u001b[0;34m\u001b[0m\u001b[0m\n\u001b[0m\u001b[1;32m     32\u001b[0m     \u001b[0;32massert\u001b[0m \u001b[0mnp\u001b[0m\u001b[0;34m.\u001b[0m\u001b[0mallclose\u001b[0m\u001b[0;34m(\u001b[0m\u001b[0mreward_gym\u001b[0m\u001b[0;34m,\u001b[0m \u001b[0mreward_jax\u001b[0m\u001b[0;34m,\u001b[0m \u001b[0matol\u001b[0m\u001b[0;34m=\u001b[0m\u001b[0matol\u001b[0m\u001b[0;34m)\u001b[0m\u001b[0;34m\u001b[0m\u001b[0;34m\u001b[0m\u001b[0m\n\u001b[1;32m     33\u001b[0m     \u001b[0;32massert\u001b[0m \u001b[0mnp\u001b[0m\u001b[0;34m.\u001b[0m\u001b[0malltrue\u001b[0m\u001b[0;34m(\u001b[0m\u001b[0mdone_gym\u001b[0m \u001b[0;34m==\u001b[0m \u001b[0mdone_jax\u001b[0m\u001b[0;34m)\u001b[0m\u001b[0;34m\u001b[0m\u001b[0;34m\u001b[0m\u001b[0m\n",
      "\u001b[0;31mAssertionError\u001b[0m: "
     ]
    }
   ],
   "source": [
    "# 3. Transition in both environments\n",
    "action = env.action_space.sample(key_action)\n",
    "action_gym = gymnax.utils.minatar_action_map(action, \"Asterix-MinAtar\")\n",
    "reward_gym = env_gym.act(action_gym)\n",
    "obs_gym = env_gym.state()\n",
    "done_gym = env_gym.env.terminal\n",
    "obs_jax, state_jax, reward_jax, done_jax, _ = env.step(key_step, state, action)\n",
    "\n",
    "# Cannot assert exact correctness due to random entity slot sampling!\n",
    "# Test go through substeps in overall step transition\n",
    "# # 4a. Check correctness of transition\n",
    "# gymnax.utils.assert_correct_transit(obs_gym, reward_gym, done_gym,\n",
    "#                                     obs_jax, reward_jax, done_jax)\n",
    "\n",
    "# # 4b. Check that post-transition states are equal\n",
    "# gymnax.utils.assert_correct_state(env_gym, \"Asterix-MinAtar\", state_jax)"
   ]
  },
  {
   "cell_type": "markdown",
   "metadata": {},
   "source": [
    "# Seaquest MinAtar Environment"
   ]
  },
  {
   "cell_type": "code",
   "execution_count": null,
   "metadata": {},
   "outputs": [],
   "source": [
    "# 1. Create gymnax based environment\n",
    "rng, env = gymnax.make(\"Seaquest-MinAtar\")\n",
    "rng, key_reset, key_step, key_action = jax.random.split(rng, 4)\n",
    "obs, state = env.reset(key_reset)\n",
    "\n",
    "# 2. Setup gym-based environment, get state dict\n",
    "env_gym = Environment(\"seaquest\")\n",
    "_ = env_gym.reset()\n",
    "state = gymnax.utils.np_state_to_jax(env_gym, \"Seaquest-MinAtar\")\n",
    "\n",
    "# 3. Transition in both environments\n",
    "action = env.action_space.sample(key_action)\n",
    "action_gym = gymnax.utils.minatar_action_map(action, \"Seaquest-MinAtar\")\n",
    "reward_gym = env_gym.act(action_gym)\n",
    "obs_gym = env_gym.state()\n",
    "done_gym = env_gym.env.terminal\n",
    "obs_jax, state_jax, reward_jax, done_jax, _ = env.step(key_step, state, action)\n",
    "\n",
    "# 4a. Check correctness of transition\n",
    "gymnax.utils.assert_correct_transit(obs_gym, reward_gym, done_gym,\n",
    "                                    obs_jax, reward_jax, done_jax)\n",
    "\n",
    "# 4b. Check that post-transition states are equal\n",
    "gymnax.utils.assert_correct_state(env_gym, \"Seaquest-MinAtar\", state_jax)"
   ]
  },
  {
   "cell_type": "code",
   "execution_count": null,
   "metadata": {},
   "outputs": [],
   "source": []
  }
 ],
 "metadata": {
  "kernelspec": {
   "display_name": "Python3 (ma-vision)",
   "language": "python",
   "name": "ma-vision"
  },
  "language_info": {
   "codemirror_mode": {
    "name": "ipython",
    "version": 3
   },
   "file_extension": ".py",
   "mimetype": "text/x-python",
   "name": "python",
   "nbconvert_exporter": "python",
   "pygments_lexer": "ipython3",
   "version": "3.6.9"
  }
 },
 "nbformat": 4,
 "nbformat_minor": 4
}
