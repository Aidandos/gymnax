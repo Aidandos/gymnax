{
 "cells": [
  {
   "cell_type": "code",
   "execution_count": 1,
   "metadata": {},
   "outputs": [
    {
     "name": "stderr",
     "output_type": "stream",
     "text": [
      "WARNING:absl:No GPU/TPU found, falling back to CPU. (Set TF_CPP_MIN_LOG_LEVEL=0 and rerun for more info.)\n"
     ]
    }
   ],
   "source": [
    "%matplotlib inline\n",
    "%load_ext autoreload\n",
    "%autoreload 2\n",
    "%config InlineBackend.figure_format = 'retina'\n",
    "\n",
    "import jax\n",
    "import jax.numpy as jnp\n",
    "import gymnax\n",
    "from minatar import Environment\n",
    "\n",
    "import matplotlib.pyplot as plt"
   ]
  },
  {
   "cell_type": "markdown",
   "metadata": {},
   "source": [
    "# Asterix MinAtar Environment"
   ]
  },
  {
   "cell_type": "code",
   "execution_count": 2,
   "metadata": {},
   "outputs": [],
   "source": [
    "# 2D State Space, 3D Obs Space, 1D Action Space [Continuous - Torque]\n",
    "rng, reset, step, env_params = gymnax.make(\"Asterix-MinAtar\")\n",
    "rng, key_reset, key_step = jax.random.split(rng, 3)\n",
    "obs, state = reset(key_reset, env_params)"
   ]
  },
  {
   "cell_type": "code",
   "execution_count": 3,
   "metadata": {},
   "outputs": [
    {
     "data": {
      "image/png": "[encoded data removed]",
      "text/plain": [
       "<Figure size 432x288 with 6 Axes>"
      ]
     },
     "metadata": {
      "image/png": {
       "height": 248,
       "width": 380
      },
      "needs_background": "light"
     },
     "output_type": "display_data"
    }
   ],
   "source": [
    "fig, axs = plt.subplots(2, 3)\n",
    "for i in range(5):\n",
    "    axs.flatten()[i].imshow(obs[:, :, i])"
   ]
  },
  {
   "cell_type": "code",
   "execution_count": 4,
   "metadata": {},
   "outputs": [
    {
     "data": {
      "text/plain": [
       "((10, 10, 4), {'entities': DeviceArray([[0, 0, 0, 0, 0],\n",
       "               [0, 0, 0, 0, 0],\n",
       "               [0, 0, 0, 0, 0],\n",
       "               [0, 0, 0, 0, 0],\n",
       "               [0, 0, 0, 0, 0],\n",
       "               [0, 0, 0, 0, 0],\n",
       "               [0, 0, 0, 0, 0],\n",
       "               [0, 0, 0, 0, 0]], dtype=int32),\n",
       "  'move_speed': DeviceArray(5, dtype=int32),\n",
       "  'move_timer': DeviceArray(5, dtype=int32),\n",
       "  'player_x': DeviceArray(5, dtype=int32),\n",
       "  'player_y': DeviceArray(5, dtype=int32),\n",
       "  'ramp_index': DeviceArray(0, dtype=int32),\n",
       "  'ramp_timer': DeviceArray(100, dtype=int32),\n",
       "  'shot_timer': DeviceArray(0, dtype=int32),\n",
       "  'spawn_speed': DeviceArray(10, dtype=int32),\n",
       "  'spawn_timer': DeviceArray(10, dtype=int32),\n",
       "  'terminal': DeviceArray(0, dtype=int32)})"
      ]
     },
     "execution_count": 4,
     "metadata": {},
     "output_type": "execute_result"
    }
   ],
   "source": [
    "obs.shape, state"
   ]
  },
  {
   "cell_type": "code",
   "execution_count": 5,
   "metadata": {},
   "outputs": [
    {
     "data": {
      "text/plain": [
       "(0, False, (10, 10, 4))"
      ]
     },
     "execution_count": 5,
     "metadata": {},
     "output_type": "execute_result"
    }
   ],
   "source": [
    "env = Environment(\"asterix\")\n",
    "obs = env.reset()\n",
    "action = 1\n",
    "reward_gym, done_gym = env.act(action)\n",
    "obs_gym = env.state()\n",
    "reward_gym, done_gym, obs_gym.shape"
   ]
  },
  {
   "cell_type": "code",
   "execution_count": 6,
   "metadata": {},
   "outputs": [
    {
     "data": {
      "text/plain": [
       "{'entities': DeviceArray([[0, 0, 0, 0, 0],\n",
       "              [0, 0, 0, 0, 0],\n",
       "              [0, 0, 0, 0, 0],\n",
       "              [0, 0, 0, 0, 0],\n",
       "              [0, 0, 0, 0, 0],\n",
       "              [0, 0, 0, 0, 0],\n",
       "              [0, 0, 0, 0, 0],\n",
       "              [0, 0, 0, 0, 0]], dtype=int32),\n",
       " 'move_speed': DeviceArray(5, dtype=int32),\n",
       " 'move_timer': DeviceArray(5, dtype=int32),\n",
       " 'player_x': DeviceArray(5, dtype=int32),\n",
       " 'player_y': DeviceArray(5, dtype=int32),\n",
       " 'ramp_index': DeviceArray(0, dtype=int32),\n",
       " 'ramp_timer': DeviceArray(100, dtype=int32),\n",
       " 'shot_timer': DeviceArray(0, dtype=int32),\n",
       " 'spawn_speed': DeviceArray(10, dtype=int32),\n",
       " 'spawn_timer': DeviceArray(10, dtype=int32),\n",
       " 'terminal': DeviceArray(0, dtype=int32)}"
      ]
     },
     "execution_count": 6,
     "metadata": {},
     "output_type": "execute_result"
    }
   ],
   "source": [
    "state"
   ]
  },
  {
   "cell_type": "code",
   "execution_count": null,
   "metadata": {},
   "outputs": [],
   "source": [
    "obs_jax, state_jax, reward_jax, done_jax, _ = step(key_step, env_params,\n",
    "                                                   state, action)\n",
    "state_jax, reward_jax, done_jax"
   ]
  },
  {
   "cell_type": "markdown",
   "metadata": {},
   "source": [
    "# Breakout MinAtar Environment"
   ]
  },
  {
   "cell_type": "code",
   "execution_count": 10,
   "metadata": {},
   "outputs": [],
   "source": [
    "# 2D State Space, 3D Obs Space, 1D Action Space [Continuous - Torque]\n",
    "rng, reset, step, env_params = gymnax.make(\"Breakout-MinAtar\")\n",
    "rng, key_reset, key_step = jax.random.split(rng, 3)\n",
    "obs, state = reset(key_reset, env_params)"
   ]
  },
  {
   "cell_type": "code",
   "execution_count": 11,
   "metadata": {},
   "outputs": [
    {
     "data": {
      "text/plain": [
       "DeviceArray([[[False, False, False, False],\n",
       "              [False, False, False, False],\n",
       "              [False, False, False, False],\n",
       "              [False, False, False, False],\n",
       "              [False, False, False, False],\n",
       "              [False, False, False, False],\n",
       "              [False, False, False, False],\n",
       "              [False, False, False, False],\n",
       "              [False, False, False, False],\n",
       "              [False, False, False, False]],\n",
       "\n",
       "             [[False, False, False, False],\n",
       "              [False, False, False, False],\n",
       "              [False, False, False, False],\n",
       "              [False, False, False, False],\n",
       "              [False, False, False, False],\n",
       "              [False, False, False, False],\n",
       "              [False, False, False, False],\n",
       "              [False, False, False, False],\n",
       "              [False, False, False, False],\n",
       "              [False, False, False, False]],\n",
       "\n",
       "             [[False, False, False, False],\n",
       "              [False, False, False, False],\n",
       "              [False, False, False, False],\n",
       "              [False, False, False, False],\n",
       "              [False, False, False, False],\n",
       "              [False, False, False, False],\n",
       "              [False, False, False, False],\n",
       "              [False, False, False, False],\n",
       "              [False, False, False, False],\n",
       "              [False, False, False, False]],\n",
       "\n",
       "             [[False,  True,  True, False],\n",
       "              [False, False, False, False],\n",
       "              [False, False, False, False],\n",
       "              [False, False, False, False],\n",
       "              [False, False, False, False],\n",
       "              [False, False, False, False],\n",
       "              [False, False, False, False],\n",
       "              [False, False, False, False],\n",
       "              [False, False, False, False],\n",
       "              [False, False, False, False]],\n",
       "\n",
       "             [[False, False, False, False],\n",
       "              [False, False, False, False],\n",
       "              [False, False, False, False],\n",
       "              [False, False, False, False],\n",
       "              [False, False, False, False],\n",
       "              [False, False, False, False],\n",
       "              [False, False, False, False],\n",
       "              [False, False, False, False],\n",
       "              [False, False, False, False],\n",
       "              [False, False, False, False]],\n",
       "\n",
       "             [[False, False, False, False],\n",
       "              [False, False, False, False],\n",
       "              [False, False, False, False],\n",
       "              [False, False, False, False],\n",
       "              [False, False, False, False],\n",
       "              [False, False, False, False],\n",
       "              [False, False, False, False],\n",
       "              [False, False, False, False],\n",
       "              [False, False, False, False],\n",
       "              [False, False, False, False]],\n",
       "\n",
       "             [[False, False, False, False],\n",
       "              [False, False, False, False],\n",
       "              [False, False, False, False],\n",
       "              [False, False, False, False],\n",
       "              [False, False, False, False],\n",
       "              [False, False, False, False],\n",
       "              [False, False, False, False],\n",
       "              [False, False, False, False],\n",
       "              [False, False, False, False],\n",
       "              [False, False, False, False]],\n",
       "\n",
       "             [[False, False, False, False],\n",
       "              [False, False, False, False],\n",
       "              [False, False, False, False],\n",
       "              [False, False, False, False],\n",
       "              [False, False, False, False],\n",
       "              [False, False, False, False],\n",
       "              [False, False, False, False],\n",
       "              [False, False, False, False],\n",
       "              [False, False, False, False],\n",
       "              [False, False, False, False]],\n",
       "\n",
       "             [[False, False, False, False],\n",
       "              [False, False, False, False],\n",
       "              [False, False, False, False],\n",
       "              [False, False, False, False],\n",
       "              [False, False, False, False],\n",
       "              [False, False, False, False],\n",
       "              [False, False, False, False],\n",
       "              [False, False, False, False],\n",
       "              [False, False, False, False],\n",
       "              [False, False, False, False]],\n",
       "\n",
       "             [[False, False, False, False],\n",
       "              [False, False, False, False],\n",
       "              [False, False, False, False],\n",
       "              [False, False, False, False],\n",
       "              [ True, False, False, False],\n",
       "              [False, False, False, False],\n",
       "              [False, False, False, False],\n",
       "              [False, False, False, False],\n",
       "              [False, False, False, False],\n",
       "              [False, False, False, False]]], dtype=bool)"
      ]
     },
     "execution_count": 11,
     "metadata": {},
     "output_type": "execute_result"
    }
   ],
   "source": [
    "obs"
   ]
  },
  {
   "cell_type": "code",
   "execution_count": null,
   "metadata": {},
   "outputs": [],
   "source": []
  }
 ],
 "metadata": {
  "kernelspec": {
   "display_name": "Python3 (ma-vision)",
   "language": "python",
   "name": "ma-vision"
  },
  "language_info": {
   "codemirror_mode": {
    "name": "ipython",
    "version": 3
   },
   "file_extension": ".py",
   "mimetype": "text/x-python",
   "name": "python",
   "nbconvert_exporter": "python",
   "pygments_lexer": "ipython3",
   "version": "3.6.9"
  }
 },
 "nbformat": 4,
 "nbformat_minor": 4
}
