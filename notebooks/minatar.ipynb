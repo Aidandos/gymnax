{
 "cells": [
  {
   "cell_type": "code",
   "execution_count": null,
   "metadata": {},
   "outputs": [],
   "source": [
    "%matplotlib inline\n",
    "%load_ext autoreload\n",
    "%autoreload 2\n",
    "%config InlineBackend.figure_format = 'retina'\n",
    "\n",
    "import jax\n",
    "import jax.numpy as jnp\n",
    "import numpy as np\n",
    "import gymnax\n",
    "from minatar import Environment\n",
    "\n",
    "import matplotlib.pyplot as plt"
   ]
  },
  {
   "cell_type": "markdown",
   "metadata": {},
   "source": [
    "# Freeway MinAtar Environment"
   ]
  },
  {
   "cell_type": "code",
   "execution_count": null,
   "metadata": {},
   "outputs": [],
   "source": [
    "# 1. Create gymnax based environment\n",
    "rng, env = gymnax.make(\"Freeway-MinAtar\")\n",
    "rng, key_reset, key_step, key_action = jax.random.split(rng, 4)\n",
    "obs, state = env.reset(key_reset)\n",
    "\n",
    "# 2. Setup gym-based environment, get state dict\n",
    "env_gym = Environment(\"freeway\")\n",
    "_ = env_gym.reset()\n",
    "state = gymnax.utils.np_state_to_jax(env_gym, \"Freeway-MinAtar\")\n",
    "\n",
    "# 3. Transition in both environments\n",
    "action = env.action_space.sample(key_action)\n",
    "action_gym = gymnax.utils.minatar_action_map(action, \"Freeway-MinAtar\")\n",
    "reward_gym = env_gym.act(action_gym)\n",
    "obs_gym = env_gym.state()\n",
    "done_gym = env_gym.env.terminal\n",
    "obs_jax, state_jax, reward_jax, done_jax, _ = env.step(key_step, state, action)\n",
    "\n",
    "# 4a. Check correctness of transition\n",
    "gymnax.utils.assert_correct_transit(obs_gym, reward_gym, done_gym,\n",
    "                                    obs_jax, reward_jax, done_jax)\n",
    "\n",
    "# 4b. Check that post-transition states are equal\n",
    "gymnax.utils.assert_correct_state(env_gym, \"Freeway-MinAtar\", state_jax)"
   ]
  },
  {
   "cell_type": "markdown",
   "metadata": {},
   "source": [
    "# SpaceInvaders MinAtar Environment"
   ]
  },
  {
   "cell_type": "code",
   "execution_count": null,
   "metadata": {},
   "outputs": [],
   "source": [
    "# 1. Create gymnax based environment\n",
    "rng, env = gymnax.make(\"SpaceInvaders-MinAtar\")\n",
    "rng, key_reset, key_step, key_action = jax.random.split(rng, 4)\n",
    "obs, state = env.reset(key_reset)\n",
    "\n",
    "# 2. Setup gym-based environment, get state dict\n",
    "env_gym = Environment(\"space_invaders\")\n",
    "_ = env_gym.reset()\n",
    "state = gymnax.utils.np_state_to_jax(env_gym, \"SpaceInvaders-MinAtar\")\n",
    "\n",
    "# 3. Transition in both environments\n",
    "action = env.action_space.sample(key_action)\n",
    "action_gym = gymnax.utils.minatar_action_map(action, \"SpaceInvaders-MinAtar\")\n",
    "reward_gym, obs_gym, done_gym = env_gym.act(action_gym), env_gym.state(), env_gym.env.terminal\n",
    "obs_jax, state_jax, reward_jax, done_jax, _ = env.step(key_step, state, action)\n",
    "\n",
    "# 4a. Check correctness of transition\n",
    "gymnax.utils.assert_correct_transit(obs_gym, reward_gym, done_gym,\n",
    "                                    obs_jax, reward_jax, done_jax)\n",
    "\n",
    "# 4b. Check that post-transition states are equal\n",
    "gymnax.utils.assert_correct_state(env_gym, \"SpaceInvaders-MinAtar\", state_jax)"
   ]
  },
  {
   "cell_type": "code",
   "execution_count": null,
   "metadata": {},
   "outputs": [],
   "source": []
  }
 ],
 "metadata": {
  "kernelspec": {
   "display_name": "Python3 (ma-vision)",
   "language": "python",
   "name": "ma-vision"
  },
  "language_info": {
   "codemirror_mode": {
    "name": "ipython",
    "version": 3
   },
   "file_extension": ".py",
   "mimetype": "text/x-python",
   "name": "python",
   "nbconvert_exporter": "python",
   "pygments_lexer": "ipython3",
   "version": "3.6.9"
  }
 },
 "nbformat": 4,
 "nbformat_minor": 4
}
