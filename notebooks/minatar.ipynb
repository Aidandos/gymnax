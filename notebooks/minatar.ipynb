{
 "cells": [
  {
   "cell_type": "code",
   "execution_count": 1,
   "metadata": {},
   "outputs": [
    {
     "name": "stderr",
     "output_type": "stream",
     "text": [
      "WARNING:absl:No GPU/TPU found, falling back to CPU. (Set TF_CPP_MIN_LOG_LEVEL=0 and rerun for more info.)\n"
     ]
    }
   ],
   "source": [
    "%matplotlib inline\n",
    "%load_ext autoreload\n",
    "%autoreload 2\n",
    "%config InlineBackend.figure_format = 'retina'\n",
    "\n",
    "import jax\n",
    "import jax.numpy as jnp\n",
    "import numpy as np\n",
    "import gymnax\n",
    "from minatar import Environment\n",
    "\n",
    "import matplotlib.pyplot as plt"
   ]
  },
  {
   "cell_type": "markdown",
   "metadata": {},
   "source": [
    "# Asterix MinAtar Environment"
   ]
  },
  {
   "cell_type": "code",
   "execution_count": null,
   "metadata": {},
   "outputs": [],
   "source": [
    "# 2D State Space, 3D Obs Space, 1D Action Space [Continuous - Torque]\n",
    "rng, reset, step, env_params = gymnax.make(\"Asterix-MinAtar\")\n",
    "rng, key_reset, key_step = jax.random.split(rng, 3)\n",
    "obs, state = reset(key_reset, env_params)"
   ]
  },
  {
   "cell_type": "code",
   "execution_count": null,
   "metadata": {},
   "outputs": [],
   "source": [
    "fig, axs = plt.subplots(2, 3)\n",
    "for i in range(5):\n",
    "    axs.flatten()[i].imshow(obs[:, :, i])"
   ]
  },
  {
   "cell_type": "code",
   "execution_count": null,
   "metadata": {},
   "outputs": [],
   "source": [
    "obs.shape, state"
   ]
  },
  {
   "cell_type": "code",
   "execution_count": null,
   "metadata": {},
   "outputs": [],
   "source": [
    "env = Environment(\"asterix\")\n",
    "obs = env.reset()\n",
    "action = 1\n",
    "reward_gym, done_gym = env.act(action)\n",
    "obs_gym = env.state()\n",
    "reward_gym, done_gym, obs_gym.shape"
   ]
  },
  {
   "cell_type": "code",
   "execution_count": null,
   "metadata": {},
   "outputs": [],
   "source": [
    "state"
   ]
  },
  {
   "cell_type": "code",
   "execution_count": null,
   "metadata": {},
   "outputs": [],
   "source": [
    "obs_jax, state_jax, reward_jax, done_jax, _ = step(key_step, env_params,\n",
    "                                                   state, action)\n",
    "state_jax, reward_jax, done_jax"
   ]
  },
  {
   "cell_type": "markdown",
   "metadata": {},
   "source": [
    "# Breakout MinAtar Environment"
   ]
  },
  {
   "cell_type": "code",
   "execution_count": null,
   "metadata": {},
   "outputs": [],
   "source": [
    "env = Environment(\"breakout\", sticky_action_prob =0.0)\n",
    "env.reset()\n",
    "obs_gym = env.state()"
   ]
  },
  {
   "cell_type": "code",
   "execution_count": null,
   "metadata": {},
   "outputs": [],
   "source": [
    "state = {'ball_dir': env.env.ball_dir,\n",
    "         'ball_x': env.env.ball_x,\n",
    "         'ball_y': env.env.ball_y,\n",
    "         'brick_map': env.env.brick_map,\n",
    "         'last_x': env.env.last_x,\n",
    "         'last_y': env.env.last_y,\n",
    "         'pos': env.env.pos,\n",
    "         'strike': env.env.strike,\n",
    "         'terminal': env.env.terminal}"
   ]
  },
  {
   "cell_type": "code",
   "execution_count": null,
   "metadata": {},
   "outputs": [],
   "source": [
    "action = 1\n",
    "reward_gym, done_gym = env.act(action)\n",
    "next_obs_gym = env.state()\n",
    "reward_gym, done_gym, obs_gym.shape"
   ]
  },
  {
   "cell_type": "code",
   "execution_count": null,
   "metadata": {},
   "outputs": [],
   "source": [
    "# 2D State Space, 3D Obs Space, 1D Action Space [Continuous - Torque]\n",
    "rng, reset, step, env_params = gymnax.make(\"Breakout-MinAtar\")\n",
    "rng, key_reset, key_step = jax.random.split(rng, 3)\n",
    "o, s = reset(key_reset, env_params)"
   ]
  },
  {
   "cell_type": "code",
   "execution_count": null,
   "metadata": {},
   "outputs": [],
   "source": [
    "obs_jax, state_jax, reward_jax, done_jax, _ = step(key_step, env_params,\n",
    "                                                   state, action)\n",
    "state_jax, reward_jax, done_jax"
   ]
  },
  {
   "cell_type": "code",
   "execution_count": null,
   "metadata": {},
   "outputs": [],
   "source": [
    "(obs_jax == next_obs_gym).all()"
   ]
  },
  {
   "cell_type": "code",
   "execution_count": null,
   "metadata": {},
   "outputs": [],
   "source": [
    "seed = 3\n",
    "env = Environment(\"breakout\", sticky_action_prob =0.0, random_seed=seed)\n",
    "env.reset()\n",
    "np.random.seed(seed)\n",
    "action_space = [1, 3]\n",
    "for i in range(10):\n",
    "    # print(\"pos gym pre\", env.env.pos)\n",
    "    state_jax = {'ball_dir': env.env.ball_dir,\n",
    "                 'ball_x': env.env.ball_x,\n",
    "                 'ball_y': env.env.ball_y,\n",
    "                 'brick_map': env.env.brick_map,\n",
    "                 'last_x': env.env.last_x,\n",
    "                 'last_y': env.env.last_y,\n",
    "                 'pos': env.env.pos,\n",
    "                 'strike': env.env.strike,\n",
    "                 'terminal': env.env.terminal}\n",
    "    action = np.random.choice(action_space)\n",
    "    #print(\"gym_pre\", env.env.ball_x, env.env.ball_y , env.env.pos)\n",
    "    reward_gym, done_gym = env.act(action)\n",
    "    #print(\"pos gym post\", env.env.pos, print(done_gym))\n",
    "    next_obs_gym = env.state()\n",
    "    #print(\"gym_post\", env.env.ball_x, env.env.ball_y , env.env.pos)\n",
    "    \n",
    "    obs_jax, state_jax, reward_jax, done_jax, _ = step(key_step, env_params,\n",
    "                                                       state_jax, action)\n",
    "    #print(done_jax)\n",
    "    \n",
    "    #print(i, \"==========\")\n",
    "    if not (obs_jax == next_obs_gym).all():\n",
    "        print(\"===\")\n",
    "        print(\"Problem\")\n",
    "        for i in range(4):\n",
    "            print((obs_jax[:, :, i] == next_obs_gym[:, :, i]).all())\n",
    "        break\n",
    "    if done_gym:\n",
    "        break\n",
    "    "
   ]
  },
  {
   "cell_type": "code",
   "execution_count": null,
   "metadata": {},
   "outputs": [],
   "source": [
    "(obs_jax[:, :, 1] == next_obs_gym[:, :, 1]).all()"
   ]
  },
  {
   "cell_type": "code",
   "execution_count": null,
   "metadata": {},
   "outputs": [],
   "source": [
    "fig, axs = plt.subplots(2, 2)\n",
    "for i in range(4):\n",
    "    axs.flatten()[i].imshow(next_obs_gym[:, :, i])"
   ]
  },
  {
   "cell_type": "code",
   "execution_count": null,
   "metadata": {},
   "outputs": [],
   "source": [
    "fig, axs = plt.subplots(2, 2)\n",
    "for i in range(4):\n",
    "    axs.flatten()[i].imshow(obs_jax[:, :, i])"
   ]
  },
  {
   "cell_type": "markdown",
   "metadata": {},
   "source": [
    "# Freeway MinAtar Environment"
   ]
  },
  {
   "cell_type": "code",
   "execution_count": 2,
   "metadata": {},
   "outputs": [],
   "source": [
    "# 2D State Space, 3D Obs Space, 1D Action Space [Continuous - Torque]\n",
    "rng, reset, step, env_params = gymnax.make(\"Freeway-MinAtar\")\n",
    "rng, key_reset, key_step = jax.random.split(rng, 3)\n",
    "obs, state = reset(key_reset, env_params)"
   ]
  },
  {
   "cell_type": "code",
   "execution_count": 3,
   "metadata": {},
   "outputs": [
    {
     "data": {
      "text/plain": [
       "{'player_speed': 3, 'time_limit': 2500}"
      ]
     },
     "execution_count": 3,
     "metadata": {},
     "output_type": "execute_result"
    }
   ],
   "source": [
    "env_params"
   ]
  },
  {
   "cell_type": "code",
   "execution_count": 4,
   "metadata": {},
   "outputs": [
    {
     "data": {
      "text/plain": [
       "{'cars': DeviceArray([[ 0,  1,  1,  1],\n",
       "              [ 0,  2,  5,  5],\n",
       "              [ 0,  3,  3, -3],\n",
       "              [ 0,  4,  5,  5],\n",
       "              [ 0,  5,  1,  1],\n",
       "              [ 0,  6,  5, -5],\n",
       "              [ 0,  7,  3, -3],\n",
       "              [ 0,  8,  1,  1]], dtype=int32),\n",
       " 'move_timer': DeviceArray(3, dtype=int32),\n",
       " 'pos': DeviceArray(9, dtype=int32),\n",
       " 'terminal': DeviceArray(False, dtype=bool),\n",
       " 'terminate_timer': DeviceArray(2500, dtype=int32)}"
      ]
     },
     "execution_count": 4,
     "metadata": {},
     "output_type": "execute_result"
    }
   ],
   "source": [
    "state"
   ]
  },
  {
   "cell_type": "code",
   "execution_count": 5,
   "metadata": {},
   "outputs": [
    {
     "data": {
      "text/plain": [
       "DeviceArray([[[False, False, False, False, False, False, False],\n",
       "              [False, False, False, False, False, False, False],\n",
       "              [False, False, False, False, False, False, False],\n",
       "              [False, False, False, False, False, False, False],\n",
       "              [False, False, False, False, False, False, False],\n",
       "              [False, False, False, False, False, False, False],\n",
       "              [False, False, False, False, False, False, False],\n",
       "              [False, False, False, False, False, False, False],\n",
       "              [False, False, False, False, False, False, False],\n",
       "              [False, False, False, False, False, False, False]],\n",
       "\n",
       "             [[False,  True, False, False, False, False, False],\n",
       "              [False, False, False, False, False, False, False],\n",
       "              [False, False, False, False, False, False, False],\n",
       "              [False, False, False, False, False, False, False],\n",
       "              [False, False, False, False, False, False, False],\n",
       "              [False, False, False, False, False, False, False],\n",
       "              [False, False, False, False, False, False, False],\n",
       "              [False, False, False, False, False, False, False],\n",
       "              [False, False, False, False, False, False, False],\n",
       "              [False, False,  True, False, False, False, False]],\n",
       "\n",
       "             [[False,  True, False, False, False, False, False],\n",
       "              [False, False, False, False, False, False, False],\n",
       "              [False, False, False, False, False, False, False],\n",
       "              [False, False, False, False, False, False, False],\n",
       "              [False, False, False, False, False, False, False],\n",
       "              [False, False, False, False, False, False, False],\n",
       "              [False, False, False, False, False, False, False],\n",
       "              [False, False, False, False, False, False, False],\n",
       "              [False, False, False, False, False, False, False],\n",
       "              [False, False, False, False, False, False,  True]],\n",
       "\n",
       "             [[False,  True, False, False, False, False, False],\n",
       "              [False, False, False, False,  True, False, False],\n",
       "              [False, False, False, False, False, False, False],\n",
       "              [False, False, False, False, False, False, False],\n",
       "              [False, False, False, False, False, False, False],\n",
       "              [False, False, False, False, False, False, False],\n",
       "              [False, False, False, False, False, False, False],\n",
       "              [False, False, False, False, False, False, False],\n",
       "              [False, False, False, False, False, False, False],\n",
       "              [False, False, False, False, False, False, False]],\n",
       "\n",
       "             [[False,  True, False, False, False, False, False],\n",
       "              [False, False, False, False, False, False, False],\n",
       "              [False, False, False, False, False, False, False],\n",
       "              [False, False, False, False, False, False, False],\n",
       "              [False, False, False, False, False, False, False],\n",
       "              [False, False, False, False, False, False, False],\n",
       "              [False, False, False, False, False, False, False],\n",
       "              [False, False, False, False, False, False, False],\n",
       "              [False, False, False, False, False, False, False],\n",
       "              [False, False, False, False, False, False,  True]],\n",
       "\n",
       "             [[False,  True, False, False, False, False, False],\n",
       "              [False, False, False, False, False, False, False],\n",
       "              [False, False, False, False, False, False, False],\n",
       "              [False, False, False, False, False, False, False],\n",
       "              [False, False, False, False, False, False, False],\n",
       "              [False, False, False, False, False, False, False],\n",
       "              [False, False, False, False, False, False, False],\n",
       "              [False, False, False, False, False, False, False],\n",
       "              [False, False, False, False, False, False, False],\n",
       "              [False, False,  True, False, False, False, False]],\n",
       "\n",
       "             [[False,  True, False, False, False, False, False],\n",
       "              [False, False, False, False, False, False,  True],\n",
       "              [False, False, False, False, False, False, False],\n",
       "              [False, False, False, False, False, False, False],\n",
       "              [False, False, False, False, False, False, False],\n",
       "              [False, False, False, False, False, False, False],\n",
       "              [False, False, False, False, False, False, False],\n",
       "              [False, False, False, False, False, False, False],\n",
       "              [False, False, False, False, False, False, False],\n",
       "              [False, False, False, False, False, False, False]],\n",
       "\n",
       "             [[False,  True, False, False, False, False, False],\n",
       "              [False, False, False, False,  True, False, False],\n",
       "              [False, False, False, False, False, False, False],\n",
       "              [False, False, False, False, False, False, False],\n",
       "              [False, False, False, False, False, False, False],\n",
       "              [False, False, False, False, False, False, False],\n",
       "              [False, False, False, False, False, False, False],\n",
       "              [False, False, False, False, False, False, False],\n",
       "              [False, False, False, False, False, False, False],\n",
       "              [False, False, False, False, False, False, False]],\n",
       "\n",
       "             [[False,  True, False, False, False, False, False],\n",
       "              [False, False, False, False, False, False, False],\n",
       "              [False, False, False, False, False, False, False],\n",
       "              [False, False, False, False, False, False, False],\n",
       "              [False, False, False, False, False, False, False],\n",
       "              [False, False, False, False, False, False, False],\n",
       "              [False, False, False, False, False, False, False],\n",
       "              [False, False, False, False, False, False, False],\n",
       "              [False, False, False, False, False, False, False],\n",
       "              [False, False,  True, False, False, False, False]],\n",
       "\n",
       "             [[False, False, False, False, False, False, False],\n",
       "              [False, False, False, False, False, False, False],\n",
       "              [False, False, False, False, False, False, False],\n",
       "              [False, False, False, False, False, False, False],\n",
       "              [ True, False, False, False, False, False, False],\n",
       "              [False, False, False, False, False, False, False],\n",
       "              [False, False, False, False, False, False, False],\n",
       "              [False, False, False, False, False, False, False],\n",
       "              [False, False, False, False, False, False, False],\n",
       "              [False, False, False, False, False, False, False]]],            dtype=bool)"
      ]
     },
     "execution_count": 5,
     "metadata": {},
     "output_type": "execute_result"
    }
   ],
   "source": [
    "obs"
   ]
  },
  {
   "cell_type": "code",
   "execution_count": 7,
   "metadata": {},
   "outputs": [
    {
     "data": {
      "image/png": "[encoded data removed]",
      "text/plain": [
       "<Figure size 432x288 with 8 Axes>"
      ]
     },
     "metadata": {
      "image/png": {
       "height": 222,
       "width": 362
      },
      "needs_background": "light"
     },
     "output_type": "display_data"
    }
   ],
   "source": [
    "fig, axs = plt.subplots(2, 4)\n",
    "for i in range(8):\n",
    "    axs.flatten()[i].imshow(obs[:, :, i])"
   ]
  },
  {
   "cell_type": "code",
   "execution_count": null,
   "metadata": {},
   "outputs": [],
   "source": []
  }
 ],
 "metadata": {
  "kernelspec": {
   "display_name": "Python3 (ma-vision)",
   "language": "python",
   "name": "ma-vision"
  },
  "language_info": {
   "codemirror_mode": {
    "name": "ipython",
    "version": 3
   },
   "file_extension": ".py",
   "mimetype": "text/x-python",
   "name": "python",
   "nbconvert_exporter": "python",
   "pygments_lexer": "ipython3",
   "version": "3.6.9"
  }
 },
 "nbformat": 4,
 "nbformat_minor": 4
}
