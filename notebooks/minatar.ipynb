{
 "cells": [
  {
   "cell_type": "code",
   "execution_count": 1,
   "metadata": {},
   "outputs": [
    {
     "name": "stderr",
     "output_type": "stream",
     "text": [
      "WARNING:absl:No GPU/TPU found, falling back to CPU. (Set TF_CPP_MIN_LOG_LEVEL=0 and rerun for more info.)\n"
     ]
    }
   ],
   "source": [
    "%matplotlib inline\n",
    "%load_ext autoreload\n",
    "%autoreload 2\n",
    "%config InlineBackend.figure_format = 'retina'\n",
    "\n",
    "import jax\n",
    "import jax.numpy as jnp\n",
    "import numpy as np\n",
    "import gymnax\n",
    "from minatar import Environment\n",
    "\n",
    "import matplotlib.pyplot as plt"
   ]
  },
  {
   "cell_type": "markdown",
   "metadata": {},
   "source": [
    "# Asterix MinAtar Environment"
   ]
  },
  {
   "cell_type": "code",
   "execution_count": 2,
   "metadata": {},
   "outputs": [],
   "source": [
    "# 2D State Space, 3D Obs Space, 1D Action Space [Continuous - Torque]\n",
    "rng, reset, step, env_params = gymnax.make(\"Asterix-MinAtar\")\n",
    "rng, key_reset, key_step = jax.random.split(rng, 3)\n",
    "obs, state = reset(key_reset, env_params)"
   ]
  },
  {
   "cell_type": "code",
   "execution_count": 3,
   "metadata": {},
   "outputs": [
    {
     "data": {
      "image/png": "[encoded data removed]",
      "text/plain": [
       "<Figure size 432x288 with 6 Axes>"
      ]
     },
     "metadata": {
      "image/png": {
       "height": 248,
       "width": 380
      },
      "needs_background": "light"
     },
     "output_type": "display_data"
    }
   ],
   "source": [
    "fig, axs = plt.subplots(2, 3)\n",
    "for i in range(5):\n",
    "    axs.flatten()[i].imshow(obs[:, :, i])"
   ]
  },
  {
   "cell_type": "code",
   "execution_count": 4,
   "metadata": {},
   "outputs": [
    {
     "data": {
      "text/plain": [
       "((10, 10, 4), {'entities': DeviceArray([[0, 0, 0, 0, 0],\n",
       "               [0, 0, 0, 0, 0],\n",
       "               [0, 0, 0, 0, 0],\n",
       "               [0, 0, 0, 0, 0],\n",
       "               [0, 0, 0, 0, 0],\n",
       "               [0, 0, 0, 0, 0],\n",
       "               [0, 0, 0, 0, 0],\n",
       "               [0, 0, 0, 0, 0]], dtype=int32),\n",
       "  'move_speed': DeviceArray(5, dtype=int32),\n",
       "  'move_timer': DeviceArray(5, dtype=int32),\n",
       "  'player_x': DeviceArray(5, dtype=int32),\n",
       "  'player_y': DeviceArray(5, dtype=int32),\n",
       "  'ramp_index': DeviceArray(0, dtype=int32),\n",
       "  'ramp_timer': DeviceArray(100, dtype=int32),\n",
       "  'shot_timer': DeviceArray(0, dtype=int32),\n",
       "  'spawn_speed': DeviceArray(10, dtype=int32),\n",
       "  'spawn_timer': DeviceArray(10, dtype=int32),\n",
       "  'terminal': DeviceArray(0, dtype=int32)})"
      ]
     },
     "execution_count": 4,
     "metadata": {},
     "output_type": "execute_result"
    }
   ],
   "source": [
    "obs.shape, state"
   ]
  },
  {
   "cell_type": "code",
   "execution_count": 5,
   "metadata": {},
   "outputs": [
    {
     "data": {
      "text/plain": [
       "(0, False, (10, 10, 4))"
      ]
     },
     "execution_count": 5,
     "metadata": {},
     "output_type": "execute_result"
    }
   ],
   "source": [
    "env = Environment(\"asterix\")\n",
    "obs = env.reset()\n",
    "action = 1\n",
    "reward_gym, done_gym = env.act(action)\n",
    "obs_gym = env.state()\n",
    "reward_gym, done_gym, obs_gym.shape"
   ]
  },
  {
   "cell_type": "code",
   "execution_count": 6,
   "metadata": {},
   "outputs": [
    {
     "data": {
      "text/plain": [
       "{'entities': DeviceArray([[0, 0, 0, 0, 0],\n",
       "              [0, 0, 0, 0, 0],\n",
       "              [0, 0, 0, 0, 0],\n",
       "              [0, 0, 0, 0, 0],\n",
       "              [0, 0, 0, 0, 0],\n",
       "              [0, 0, 0, 0, 0],\n",
       "              [0, 0, 0, 0, 0],\n",
       "              [0, 0, 0, 0, 0]], dtype=int32),\n",
       " 'move_speed': DeviceArray(5, dtype=int32),\n",
       " 'move_timer': DeviceArray(5, dtype=int32),\n",
       " 'player_x': DeviceArray(5, dtype=int32),\n",
       " 'player_y': DeviceArray(5, dtype=int32),\n",
       " 'ramp_index': DeviceArray(0, dtype=int32),\n",
       " 'ramp_timer': DeviceArray(100, dtype=int32),\n",
       " 'shot_timer': DeviceArray(0, dtype=int32),\n",
       " 'spawn_speed': DeviceArray(10, dtype=int32),\n",
       " 'spawn_timer': DeviceArray(10, dtype=int32),\n",
       " 'terminal': DeviceArray(0, dtype=int32)}"
      ]
     },
     "execution_count": 6,
     "metadata": {},
     "output_type": "execute_result"
    }
   ],
   "source": [
    "state"
   ]
  },
  {
   "cell_type": "code",
   "execution_count": 7,
   "metadata": {},
   "outputs": [
    {
     "data": {
      "text/plain": [
       "({'entities': DeviceArray([[0, 0, 0, 0, 0],\n",
       "               [0, 0, 0, 0, 0],\n",
       "               [0, 0, 0, 0, 0],\n",
       "               [0, 0, 0, 0, 0],\n",
       "               [0, 0, 0, 0, 0],\n",
       "               [0, 0, 0, 0, 0],\n",
       "               [0, 0, 0, 0, 0],\n",
       "               [0, 0, 0, 0, 0]], dtype=int32),\n",
       "  'move_speed': DeviceArray(5, dtype=int32),\n",
       "  'move_timer': DeviceArray(4, dtype=int32),\n",
       "  'player_x': DeviceArray(5, dtype=int32),\n",
       "  'player_y': DeviceArray(4, dtype=int32),\n",
       "  'ramp_index': DeviceArray(0, dtype=int32),\n",
       "  'ramp_timer': DeviceArray(99, dtype=int32),\n",
       "  'shot_timer': DeviceArray(0, dtype=int32),\n",
       "  'spawn_speed': DeviceArray(10, dtype=int32),\n",
       "  'spawn_timer': DeviceArray(9, dtype=int32),\n",
       "  'terminal': DeviceArray(0, dtype=int32)},\n",
       " DeviceArray(0, dtype=int32),\n",
       " DeviceArray(False, dtype=bool))"
      ]
     },
     "execution_count": 7,
     "metadata": {},
     "output_type": "execute_result"
    }
   ],
   "source": [
    "obs_jax, state_jax, reward_jax, done_jax, _ = step(key_step, env_params,\n",
    "                                                   state, action)\n",
    "state_jax, reward_jax, done_jax"
   ]
  },
  {
   "cell_type": "markdown",
   "metadata": {},
   "source": [
    "# Breakout MinAtar Environment"
   ]
  },
  {
   "cell_type": "code",
   "execution_count": 27,
   "metadata": {},
   "outputs": [],
   "source": [
    "env = Environment(\"breakout\", sticky_action_prob =0.0)\n",
    "env.reset()\n",
    "obs_gym = env.state()"
   ]
  },
  {
   "cell_type": "code",
   "execution_count": 28,
   "metadata": {},
   "outputs": [],
   "source": [
    "state = {'ball_dir': env.env.ball_dir,\n",
    "         'ball_x': env.env.ball_x,\n",
    "         'ball_y': env.env.ball_y,\n",
    "         'brick_map': env.env.brick_map,\n",
    "         'last_x': env.env.last_x,\n",
    "         'last_y': env.env.last_y,\n",
    "         'pos': env.env.pos,\n",
    "         'strike': env.env.strike,\n",
    "         'terminal': env.env.terminal}"
   ]
  },
  {
   "cell_type": "code",
   "execution_count": 29,
   "metadata": {},
   "outputs": [
    {
     "data": {
      "text/plain": [
       "(0, False, (10, 10, 4))"
      ]
     },
     "execution_count": 29,
     "metadata": {},
     "output_type": "execute_result"
    }
   ],
   "source": [
    "action = 1\n",
    "reward_gym, done_gym = env.act(action)\n",
    "next_obs_gym = env.state()\n",
    "reward_gym, done_gym, obs_gym.shape"
   ]
  },
  {
   "cell_type": "code",
   "execution_count": 30,
   "metadata": {},
   "outputs": [],
   "source": [
    "# 2D State Space, 3D Obs Space, 1D Action Space [Continuous - Torque]\n",
    "rng, reset, step, env_params = gymnax.make(\"Breakout-MinAtar\")\n",
    "rng, key_reset, key_step = jax.random.split(rng, 3)\n",
    "o, s = reset(key_reset, env_params)"
   ]
  },
  {
   "cell_type": "code",
   "execution_count": 31,
   "metadata": {},
   "outputs": [
    {
     "name": "stdout",
     "output_type": "stream",
     "text": [
      "action jax 1\n",
      "pos jax pre 4\n",
      "pos jax post 3\n"
     ]
    },
    {
     "data": {
      "text/plain": [
       "({'ball_dir': DeviceArray(2, dtype=int32),\n",
       "  'ball_x': DeviceArray(1, dtype=int32),\n",
       "  'ball_y': DeviceArray(4, dtype=int32),\n",
       "  'brick_map': DeviceArray([[0., 0., 0., 0., 0., 0., 0., 0., 0., 0.],\n",
       "               [1., 1., 1., 1., 1., 1., 1., 1., 1., 1.],\n",
       "               [1., 1., 1., 1., 1., 1., 1., 1., 1., 1.],\n",
       "               [1., 1., 1., 1., 1., 1., 1., 1., 1., 1.],\n",
       "               [0., 0., 0., 0., 0., 0., 0., 0., 0., 0.],\n",
       "               [0., 0., 0., 0., 0., 0., 0., 0., 0., 0.],\n",
       "               [0., 0., 0., 0., 0., 0., 0., 0., 0., 0.],\n",
       "               [0., 0., 0., 0., 0., 0., 0., 0., 0., 0.],\n",
       "               [0., 0., 0., 0., 0., 0., 0., 0., 0., 0.],\n",
       "               [0., 0., 0., 0., 0., 0., 0., 0., 0., 0.]], dtype=float32),\n",
       "  'last_x': 0,\n",
       "  'last_y': 3,\n",
       "  'pos': DeviceArray(3, dtype=int32),\n",
       "  'strike': DeviceArray(0, dtype=int32),\n",
       "  'terminal': DeviceArray(False, dtype=bool)},\n",
       " DeviceArray(0, dtype=int32),\n",
       " False)"
      ]
     },
     "execution_count": 31,
     "metadata": {},
     "output_type": "execute_result"
    }
   ],
   "source": [
    "obs_jax, state_jax, reward_jax, done_jax, _ = step(key_step, env_params,\n",
    "                                                   state, action)\n",
    "state_jax, reward_jax, done_jax"
   ]
  },
  {
   "cell_type": "code",
   "execution_count": 32,
   "metadata": {},
   "outputs": [
    {
     "data": {
      "text/plain": [
       "DeviceArray(True, dtype=bool)"
      ]
     },
     "execution_count": 32,
     "metadata": {},
     "output_type": "execute_result"
    }
   ],
   "source": [
    "(obs_jax == next_obs_gym).all()"
   ]
  },
  {
   "cell_type": "code",
   "execution_count": 95,
   "metadata": {},
   "outputs": [],
   "source": [
    "seed = 3\n",
    "env = Environment(\"breakout\", sticky_action_prob =0.0, random_seed=seed)\n",
    "env.reset()\n",
    "np.random.seed(seed)\n",
    "action_space = [1, 3]\n",
    "for i in range(10):\n",
    "    # print(\"pos gym pre\", env.env.pos)\n",
    "    state_jax = {'ball_dir': env.env.ball_dir,\n",
    "                 'ball_x': env.env.ball_x,\n",
    "                 'ball_y': env.env.ball_y,\n",
    "                 'brick_map': env.env.brick_map,\n",
    "                 'last_x': env.env.last_x,\n",
    "                 'last_y': env.env.last_y,\n",
    "                 'pos': env.env.pos,\n",
    "                 'strike': env.env.strike,\n",
    "                 'terminal': env.env.terminal}\n",
    "    action = np.random.choice(action_space)\n",
    "    #print(\"gym_pre\", env.env.ball_x, env.env.ball_y , env.env.pos)\n",
    "    reward_gym, done_gym = env.act(action)\n",
    "    #print(\"pos gym post\", env.env.pos, print(done_gym))\n",
    "    next_obs_gym = env.state()\n",
    "    #print(\"gym_post\", env.env.ball_x, env.env.ball_y , env.env.pos)\n",
    "    \n",
    "    obs_jax, state_jax, reward_jax, done_jax, _ = step(key_step, env_params,\n",
    "                                                       state_jax, action)\n",
    "    #print(done_jax)\n",
    "    \n",
    "    #print(i, \"==========\")\n",
    "    if not (obs_jax == next_obs_gym).all():\n",
    "        print(\"===\")\n",
    "        print(\"Problem\")\n",
    "        for i in range(4):\n",
    "            print((obs_jax[:, :, i] == next_obs_gym[:, :, i]).all())\n",
    "        break\n",
    "    if done_gym:\n",
    "        break\n",
    "    "
   ]
  },
  {
   "cell_type": "code",
   "execution_count": 68,
   "metadata": {},
   "outputs": [
    {
     "data": {
      "text/plain": [
       "DeviceArray(False, dtype=bool)"
      ]
     },
     "execution_count": 68,
     "metadata": {},
     "output_type": "execute_result"
    }
   ],
   "source": [
    "(obs_jax[:, :, 1] == next_obs_gym[:, :, 1]).all()"
   ]
  },
  {
   "cell_type": "code",
   "execution_count": 69,
   "metadata": {},
   "outputs": [
    {
     "data": {
      "image/png": "[encoded data removed]",
      "text/plain": [
       "<Figure size 432x288 with 4 Axes>"
      ]
     },
     "metadata": {
      "image/png": {
       "height": 248,
       "width": 318
      },
      "needs_background": "light"
     },
     "output_type": "display_data"
    }
   ],
   "source": [
    "fig, axs = plt.subplots(2, 2)\n",
    "for i in range(4):\n",
    "    axs.flatten()[i].imshow(next_obs_gym[:, :, i])"
   ]
  },
  {
   "cell_type": "code",
   "execution_count": 70,
   "metadata": {},
   "outputs": [
    {
     "data": {
      "image/png": "[encoded data removed]",
      "text/plain": [
       "<Figure size 432x288 with 4 Axes>"
      ]
     },
     "metadata": {
      "image/png": {
       "height": 248,
       "width": 318
      },
      "needs_background": "light"
     },
     "output_type": "display_data"
    }
   ],
   "source": [
    "fig, axs = plt.subplots(2, 2)\n",
    "for i in range(4):\n",
    "    axs.flatten()[i].imshow(obs_jax[:, :, i])"
   ]
  },
  {
   "cell_type": "markdown",
   "metadata": {},
   "source": [
    "# Freeway MinAtar Environment"
   ]
  },
  {
   "cell_type": "code",
   "execution_count": null,
   "metadata": {},
   "outputs": [],
   "source": [
    "# 2D State Space, 3D Obs Space, 1D Action Space [Continuous - Torque]\n",
    "rng, reset, step, env_params = gymnax.make(\"Freeway-MinAtar\")\n",
    "rng, key_reset, key_step = jax.random.split(rng, 3)\n",
    "obs, state = reset(key_reset, env_params)"
   ]
  }
 ],
 "metadata": {
  "kernelspec": {
   "display_name": "Python3 (ma-vision)",
   "language": "python",
   "name": "ma-vision"
  },
  "language_info": {
   "codemirror_mode": {
    "name": "ipython",
    "version": 3
   },
   "file_extension": ".py",
   "mimetype": "text/x-python",
   "name": "python",
   "nbconvert_exporter": "python",
   "pygments_lexer": "ipython3",
   "version": "3.6.9"
  }
 },
 "nbformat": 4,
 "nbformat_minor": 4
}
