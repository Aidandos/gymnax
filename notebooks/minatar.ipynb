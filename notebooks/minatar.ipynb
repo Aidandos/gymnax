{
 "cells": [
  {
   "cell_type": "code",
   "execution_count": 80,
   "metadata": {},
   "outputs": [
    {
     "name": "stdout",
     "output_type": "stream",
     "text": [
      "The autoreload extension is already loaded. To reload it, use:\n",
      "  %reload_ext autoreload\n"
     ]
    }
   ],
   "source": [
    "%matplotlib inline\n",
    "%load_ext autoreload\n",
    "%autoreload 2\n",
    "%config InlineBackend.figure_format = 'retina'\n",
    "\n",
    "import jax\n",
    "import jax.numpy as jnp\n",
    "import numpy as np\n",
    "import gymnax\n",
    "from minatar import Environment\n",
    "\n",
    "import matplotlib.pyplot as plt"
   ]
  },
  {
   "cell_type": "markdown",
   "metadata": {},
   "source": [
    "# Asterix MinAtar Environment"
   ]
  },
  {
   "cell_type": "code",
   "execution_count": null,
   "metadata": {},
   "outputs": [],
   "source": [
    "# 2D State Space, 3D Obs Space, 1D Action Space [Continuous - Torque]\n",
    "rng, reset, step, env_params = gymnax.make(\"Asterix-MinAtar\")\n",
    "rng, key_reset, key_step = jax.random.split(rng, 3)\n",
    "obs, state = reset(key_reset, env_params)"
   ]
  },
  {
   "cell_type": "code",
   "execution_count": null,
   "metadata": {},
   "outputs": [],
   "source": [
    "fig, axs = plt.subplots(2, 3)\n",
    "for i in range(5):\n",
    "    axs.flatten()[i].imshow(obs[:, :, i])"
   ]
  },
  {
   "cell_type": "code",
   "execution_count": null,
   "metadata": {},
   "outputs": [],
   "source": [
    "obs.shape, state"
   ]
  },
  {
   "cell_type": "code",
   "execution_count": null,
   "metadata": {},
   "outputs": [],
   "source": [
    "env = Environment(\"asterix\")\n",
    "obs = env.reset()\n",
    "action = 1\n",
    "reward_gym, done_gym = env.act(action)\n",
    "obs_gym = env.state()\n",
    "reward_gym, done_gym, obs_gym.shape"
   ]
  },
  {
   "cell_type": "code",
   "execution_count": null,
   "metadata": {},
   "outputs": [],
   "source": [
    "state"
   ]
  },
  {
   "cell_type": "code",
   "execution_count": null,
   "metadata": {},
   "outputs": [],
   "source": [
    "obs_jax, state_jax, reward_jax, done_jax, _ = step(key_step, env_params,\n",
    "                                                   state, action)\n",
    "state_jax, reward_jax, done_jax"
   ]
  },
  {
   "cell_type": "markdown",
   "metadata": {},
   "source": [
    "# Breakout MinAtar Environment"
   ]
  },
  {
   "cell_type": "code",
   "execution_count": 73,
   "metadata": {},
   "outputs": [],
   "source": [
    "env = Environment(\"breakout\")\n",
    "env.reset()\n",
    "obs_gym = env.state()"
   ]
  },
  {
   "cell_type": "code",
   "execution_count": 74,
   "metadata": {},
   "outputs": [],
   "source": [
    "state = {'ball_dir': env.env.ball_dir,\n",
    "         'ball_x': env.env.ball_x,\n",
    "         'ball_y': env.env.ball_y,\n",
    "         'brick_map': env.env.brick_map,\n",
    "         'last_x': env.env.last_x,\n",
    "         'last_y': env.env.last_y,\n",
    "         'pos': env.env.pos,\n",
    "         'strike': env.env.strike,\n",
    "         'terminal': env.env.terminal}"
   ]
  },
  {
   "cell_type": "code",
   "execution_count": 75,
   "metadata": {},
   "outputs": [
    {
     "data": {
      "text/plain": [
       "(0, False, (10, 10, 4))"
      ]
     },
     "execution_count": 75,
     "metadata": {},
     "output_type": "execute_result"
    }
   ],
   "source": [
    "action = 1\n",
    "reward_gym, done_gym = env.act(action)\n",
    "next_obs_gym = env.state()\n",
    "reward_gym, done_gym, obs_gym.shape"
   ]
  },
  {
   "cell_type": "code",
   "execution_count": 76,
   "metadata": {},
   "outputs": [],
   "source": [
    "# 2D State Space, 3D Obs Space, 1D Action Space [Continuous - Torque]\n",
    "rng, reset, step, env_params = gymnax.make(\"Breakout-MinAtar\")\n",
    "rng, key_reset, key_step = jax.random.split(rng, 3)\n",
    "o, s = reset(key_reset, env_params)"
   ]
  },
  {
   "cell_type": "code",
   "execution_count": 77,
   "metadata": {},
   "outputs": [
    {
     "data": {
      "text/plain": [
       "({'ball_dir': Buffer(3, dtype=int32),\n",
       "  'ball_x': Buffer(8, dtype=int32),\n",
       "  'ball_y': Buffer(4, dtype=int32),\n",
       "  'brick_map': Buffer([[0., 0., 0., 0., 0., 0., 0., 0., 0., 0.],\n",
       "          [1., 1., 1., 1., 1., 1., 1., 1., 1., 1.],\n",
       "          [1., 1., 1., 1., 1., 1., 1., 1., 1., 1.],\n",
       "          [1., 1., 1., 1., 1., 1., 1., 1., 1., 1.],\n",
       "          [0., 0., 0., 0., 0., 0., 0., 0., 0., 0.],\n",
       "          [0., 0., 0., 0., 0., 0., 0., 0., 0., 0.],\n",
       "          [0., 0., 0., 0., 0., 0., 0., 0., 0., 0.],\n",
       "          [0., 0., 0., 0., 0., 0., 0., 0., 0., 0.],\n",
       "          [0., 0., 0., 0., 0., 0., 0., 0., 0., 0.],\n",
       "          [0., 0., 0., 0., 0., 0., 0., 0., 0., 0.]], dtype=float32),\n",
       "  'last_x': Buffer(9, dtype=int32),\n",
       "  'last_y': Buffer(3, dtype=int32),\n",
       "  'pos': Buffer(3, dtype=int32),\n",
       "  'strike': Buffer(0, dtype=int32),\n",
       "  'terminal': Buffer(False, dtype=bool)},\n",
       " Buffer(0, dtype=int32),\n",
       " Buffer(False, dtype=bool))"
      ]
     },
     "execution_count": 77,
     "metadata": {},
     "output_type": "execute_result"
    }
   ],
   "source": [
    "obs_jax, state_jax, reward_jax, done_jax, _ = step(key_step, env_params,\n",
    "                                                   state, action)\n",
    "state_jax, reward_jax, done_jax"
   ]
  },
  {
   "cell_type": "code",
   "execution_count": 78,
   "metadata": {},
   "outputs": [
    {
     "data": {
      "text/plain": [
       "DeviceArray(True, dtype=bool)"
      ]
     },
     "execution_count": 78,
     "metadata": {},
     "output_type": "execute_result"
    }
   ],
   "source": [
    "(obs_jax == next_obs_gym).all()"
   ]
  },
  {
   "cell_type": "code",
   "execution_count": 88,
   "metadata": {},
   "outputs": [
    {
     "name": "stdout",
     "output_type": "stream",
     "text": [
      "True\n",
      "True\n",
      "True\n",
      "True\n",
      "True\n",
      "True\n",
      "False\n",
      "False\n",
      "False\n",
      "False\n"
     ]
    }
   ],
   "source": [
    "env.reset()\n",
    "action_space = [0, 1, 3]\n",
    "for i in range(10):\n",
    "    state = {'ball_dir': env.env.ball_dir,\n",
    "             'ball_x': env.env.ball_x,\n",
    "             'ball_y': env.env.ball_y,\n",
    "             'brick_map': env.env.brick_map,\n",
    "             'last_x': env.env.last_x,\n",
    "             'last_y': env.env.last_y,\n",
    "             'pos': env.env.pos,\n",
    "             'strike': env.env.strike,\n",
    "             'terminal': env.env.terminal}\n",
    "    action = np.random.choice(action_space)\n",
    "    reward_gym, done_gym = env.act(action)\n",
    "    next_obs_gym = env.state()\n",
    "    \n",
    "    obs_jax, state_jax, reward_jax, done_jax, _ = step(key_step, env_params,\n",
    "                                                   state, action)\n",
    "    print((obs_jax == next_obs_gym).all())"
   ]
  },
  {
   "cell_type": "code",
   "execution_count": null,
   "metadata": {},
   "outputs": [],
   "source": []
  }
 ],
 "metadata": {
  "kernelspec": {
   "display_name": "Python3 (ma-vision)",
   "language": "python",
   "name": "ma-vision"
  },
  "language_info": {
   "codemirror_mode": {
    "name": "ipython",
    "version": 3
   },
   "file_extension": ".py",
   "mimetype": "text/x-python",
   "name": "python",
   "nbconvert_exporter": "python",
   "pygments_lexer": "ipython3",
   "version": "3.6.9"
  }
 },
 "nbformat": 4,
 "nbformat_minor": 4
}
