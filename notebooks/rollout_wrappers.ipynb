{
 "cells": [
  {
   "cell_type": "code",
   "execution_count": 1,
   "metadata": {},
   "outputs": [],
   "source": [
    "%matplotlib inline\n",
    "%load_ext autoreload\n",
    "%autoreload 2\n",
    "%config InlineBackend.figure_format = 'retina'"
   ]
  },
  {
   "cell_type": "code",
   "execution_count": 28,
   "metadata": {},
   "outputs": [
    {
     "name": "stdout",
     "output_type": "stream",
     "text": [
      "{'max_speed': 8, 'max_torque': 2.0, 'dt': 0.05, 'g': 10.0, 'm': 1.0, 'l': 1.0, 'max_steps_in_episode': 5}\n"
     ]
    }
   ],
   "source": [
    "import jax\n",
    "import jax.numpy as jnp\n",
    "import haiku as hk\n",
    "from flax import linen as nn\n",
    "\n",
    "import gymnax\n",
    "from gymnax.dojos import EvaluationDojo\n",
    "\n",
    "# 2D State Space, 3D Obs Space, 1D Action Space [Continuous - Torque]\n",
    "rng, reset, step, env_params = gymnax.make(\"Pendulum-v0\")\n",
    "print(env_params)\n",
    "\n",
    "num_steps = 200\n",
    "parallel_episodes = 10\n",
    "rng, rng_net, rng_episode, rng_reset = jax.random.split(rng, 4)\n",
    "rng_batch = jax.random.split(rng, parallel_episodes)"
   ]
  },
  {
   "cell_type": "code",
   "execution_count": 3,
   "metadata": {},
   "outputs": [],
   "source": [
    "class MinimalEvaluationAgent():\n",
    "    \"\"\" A Minimal Wrapper for an evaluation agent. \"\"\"\n",
    "    def __init__(self, policy):\n",
    "        \"\"\" Init all key features of the agent. E.g. this may include:\n",
    "            - Policy function network forward function\n",
    "            - Exploitation schedule to use in evaluation\n",
    "            - Here: Deterministic Agent - but could also be stochastic!\n",
    "        \"\"\"\n",
    "        self.policy = policy\n",
    "\n",
    "    def actor_step(self, key, agent_params, obs, actor_state):\n",
    "        \"\"\" Policy forward pass + return action and new state. \"\"\"\n",
    "        action = self.policy(agent_params, obs)\n",
    "        return action, actor_state\n",
    "    \n",
    "    def init_actor_state(self):\n",
    "        return None"
   ]
  },
  {
   "cell_type": "markdown",
   "metadata": {},
   "source": [
    "# Simple Plain JAX MLP Policy"
   ]
  },
  {
   "cell_type": "code",
   "execution_count": 4,
   "metadata": {},
   "outputs": [],
   "source": [
    "def init_policy_mlp(rng_input, sizes, scale=1e-2):\n",
    "    \"\"\" Initialize the weights of all layers of a relu + linear layer \"\"\"\n",
    "    # Initialize a single layer with Gaussian weights - helper function\n",
    "    def initialize_layer(m, n, key, scale):\n",
    "        w_key, b_key = jax.random.split(key)\n",
    "        return (scale * jax.random.normal(w_key, (n, m)),\n",
    "                scale * jax.random.normal(b_key, (n,)))\n",
    "\n",
    "    keys = jax.random.split(rng_input, len(sizes)+1)\n",
    "    W1, b1 = initialize_layer(sizes[0], sizes[1],\n",
    "                              keys[0], scale)\n",
    "    W2, b2 = initialize_layer(sizes[1], sizes[2],\n",
    "                              keys[1], scale)\n",
    "    params = {\"W1\": W1, \"b1\": b1, \"W2\": W2, \"b2\": b2}\n",
    "    return params\n",
    "\n",
    "\n",
    "def PolicyJAX(params, obs):\n",
    "    \"\"\" Compute forward pass and return action from deterministic policy \"\"\"\n",
    "    def relu_layer(W, b, x):\n",
    "        \"\"\" Simple ReLu layer for single sample \"\"\"\n",
    "        return jnp.maximum(0, (jnp.dot(W, x) + b))\n",
    "    # Simple single hidden layer MLP: Obs -> Hidden -> Action\n",
    "    activations = relu_layer(params[\"W1\"], params[\"b1\"], obs)\n",
    "    mean_policy = jnp.dot(params[\"W2\"], activations) + params[\"b2\"]\n",
    "    return mean_policy\n",
    "\n",
    "input_dim = 3\n",
    "policy_params = init_policy_mlp(rng_net, sizes=[input_dim, 16, 1])\n",
    "agent = MinimalEvaluationAgent(PolicyJAX)"
   ]
  },
  {
   "cell_type": "code",
   "execution_count": 5,
   "metadata": {},
   "outputs": [],
   "source": [
    "collector = EvaluationDojo(agent, step, reset, env_params)\n",
    "collector.init_dojo(policy_params)\n",
    "trace, reward = collector.steps_rollout(rng_episode, num_steps)\n",
    "traces, rewards = collector.batch_rollout(rng_batch, num_steps)"
   ]
  },
  {
   "cell_type": "code",
   "execution_count": 6,
   "metadata": {},
   "outputs": [
    {
     "name": "stdout",
     "output_type": "stream",
     "text": [
      "206 µs ± 2.71 µs per loop (mean ± std. dev. of 7 runs, 1000 loops each)\n",
      "726 µs ± 9.99 µs per loop (mean ± std. dev. of 7 runs, 1000 loops each)\n"
     ]
    }
   ],
   "source": [
    "%timeit traces, rewards = collector.steps_rollout(rng_episode, num_steps)\n",
    "%timeit trace, reward = collector.batch_rollout(rng_batch, num_steps)"
   ]
  },
  {
   "cell_type": "markdown",
   "metadata": {},
   "source": [
    "# Haiku MLP Policy"
   ]
  },
  {
   "cell_type": "code",
   "execution_count": 7,
   "metadata": {},
   "outputs": [],
   "source": [
    "def policy_fct(x):\n",
    "    \"\"\" Standard MLP policy network.\"\"\"\n",
    "    mlp = hk.Sequential([\n",
    "      hk.Flatten(),\n",
    "      hk.Linear(16), jax.nn.relu,\n",
    "      hk.Linear(1),\n",
    "    ])\n",
    "    return mlp(x)\n",
    "\n",
    "\n",
    "PolicyHaiku = hk.without_apply_rng(hk.transform(policy_fct))\n",
    "obs, state = reset(rng_net, env_params)\n",
    "policy_params = PolicyHaiku.init(rng_net, obs)\n",
    "agent = MinimalEvaluationAgent(PolicyHaiku.apply)"
   ]
  },
  {
   "cell_type": "code",
   "execution_count": 8,
   "metadata": {},
   "outputs": [],
   "source": [
    "collector = EvaluationDojo(agent, step, reset, env_params)\n",
    "collector.init_dojo(policy_params)\n",
    "trace, reward = collector.steps_rollout(rng_episode, num_steps)\n",
    "traces, rewards = collector.batch_rollout(rng_batch, num_steps)"
   ]
  },
  {
   "cell_type": "code",
   "execution_count": 9,
   "metadata": {},
   "outputs": [
    {
     "name": "stdout",
     "output_type": "stream",
     "text": [
      "924 µs ± 57.8 µs per loop (mean ± std. dev. of 7 runs, 1000 loops each)\n",
      "909 µs ± 12.7 µs per loop (mean ± std. dev. of 7 runs, 1000 loops each)\n"
     ]
    }
   ],
   "source": [
    "%timeit traces, rewards = collector.steps_rollout(rng_episode, num_steps)\n",
    "%timeit traces, rewards = collector.batch_rollout(rng_batch, num_steps)"
   ]
  },
  {
   "cell_type": "markdown",
   "metadata": {},
   "source": [
    "# Flax MLP Policy"
   ]
  },
  {
   "cell_type": "code",
   "execution_count": 10,
   "metadata": {},
   "outputs": [],
   "source": [
    "class PolicyFLAX(nn.Module):\n",
    "    @nn.compact\n",
    "    def __call__(self, x):\n",
    "        x = nn.Dense(16, name='fc1')(x)\n",
    "        x = nn.relu(x)\n",
    "        action = nn.Dense(1, name='fc2')(x)\n",
    "        return action\n",
    "\n",
    "obs, state = reset(rng_net, env_params)\n",
    "policy_params = PolicyFLAX().init(rng_net, obs)\n",
    "agent = MinimalEvaluationAgent(PolicyFLAX().apply)"
   ]
  },
  {
   "cell_type": "code",
   "execution_count": 11,
   "metadata": {},
   "outputs": [],
   "source": [
    "collector = EvaluationDojo(agent, step, reset, env_params)\n",
    "collector.init_dojo(policy_params)\n",
    "trace, reward = collector.steps_rollout(rng_episode, num_steps)\n",
    "traces, rewards = collector.batch_rollout(rng_batch, num_steps)"
   ]
  },
  {
   "cell_type": "code",
   "execution_count": 12,
   "metadata": {},
   "outputs": [
    {
     "name": "stdout",
     "output_type": "stream",
     "text": [
      "925 µs ± 15.3 µs per loop (mean ± std. dev. of 7 runs, 1000 loops each)\n",
      "1.1 ms ± 64.9 µs per loop (mean ± std. dev. of 7 runs, 1000 loops each)\n"
     ]
    }
   ],
   "source": [
    "%timeit traces, rewards = collector.steps_rollout(rng_episode, num_steps)\n",
    "%timeit trace, reward = collector.batch_rollout(rng_batch, num_steps)"
   ]
  },
  {
   "cell_type": "markdown",
   "metadata": {},
   "source": [
    "# Trax MLP Policy"
   ]
  },
  {
   "cell_type": "code",
   "execution_count": 13,
   "metadata": {},
   "outputs": [],
   "source": [
    "run_trax = False\n",
    "if run_trax:\n",
    "    # Trax import takes forever!!!\n",
    "    # But in terms of runtime it is a lot faster than Haiku/Flax\n",
    "    import trax\n",
    "    from trax import layers as tl\n",
    "\n",
    "    # Problem with Trax: Takes input differently\n",
    "    # ---- Haiku, JAX, Flax model(params, input)\n",
    "    # ---- Trax model(input, params)\n",
    "    # Need helper function that re-routes inputs\n",
    "\n",
    "    def policy_fct():\n",
    "        model = tl.Serial(\n",
    "          tl.Dense(16),\n",
    "          tl.Relu(),\n",
    "          tl.Dense(1),\n",
    "        )\n",
    "        return model\n",
    "\n",
    "    policy = policy_fct()\n",
    "    policy_params, _ = policy.init(trax.shapes.signature(obs))\n",
    "    def PolicyTrax(params, obs):\n",
    "        \"\"\" Helper for correct mapping of policy params & input\"\"\"\n",
    "        return policy(obs, params)\n",
    "    agent = MinimalEvaluationAgent(PolicyTrax)"
   ]
  },
  {
   "cell_type": "code",
   "execution_count": 14,
   "metadata": {},
   "outputs": [],
   "source": [
    "if run_trax:\n",
    "    collector = EvaluationDojo(agent, step, reset, env_params)\n",
    "    collector.init_dojo(policy_params)\n",
    "    trace, reward = collector.steps_rollout(rng_episode, num_steps)\n",
    "    traces, rewards = collector.batch_rollout(rng_batch, num_steps)"
   ]
  },
  {
   "cell_type": "code",
   "execution_count": 15,
   "metadata": {},
   "outputs": [],
   "source": [
    "if run_trax:\n",
    "    %timeit traces, rewards = collector.steps_rollout(rng_episode, num_steps)\n",
    "    %timeit trace, reward = collector.batch_rollout(rng_batch, num_steps)"
   ]
  },
  {
   "cell_type": "markdown",
   "metadata": {},
   "source": [
    "# Replay Buffer Tryout"
   ]
  },
  {
   "cell_type": "code",
   "execution_count": 21,
   "metadata": {},
   "outputs": [],
   "source": [
    "from gymnax.utils import init_buffer, push_buffer, sample_buffer\n",
    "from gymnax.dojos import InterleavedDojo\n",
    "from gymnax.agents import MinimalInterleavedAgent"
   ]
  },
  {
   "cell_type": "code",
   "execution_count": 25,
   "metadata": {},
   "outputs": [],
   "source": [
    "# Make a dummy step transition & store it in buffer\n",
    "rng, reset, step, env_params = gymnax.make(\"Pendulum-v0\")\n",
    "rng, key_reset, key_step = jax.random.split(rng, 3)\n",
    "obs, state = reset(key_reset, env_params)\n",
    "action = jnp.array([1])\n",
    "next_obs, next_state, reward, done, _ = step(key_step, env_params,\n",
    "                                             state, action)\n"
   ]
  },
  {
   "cell_type": "code",
   "execution_count": 29,
   "metadata": {},
   "outputs": [],
   "source": [
    "capacity = 11\n",
    "env_params[\"max_steps_in_episode\"] = 5\n",
    "# Initialize buffer with templates\n",
    "buffer = init_buffer(state, obs, action, capacity)\n",
    "step_experience = {\"state\": state,\n",
    "                   \"next_state\": next_state,\n",
    "                   \"obs\": obs,\n",
    "                   \"next_obs\": next_obs,\n",
    "                   \"action\": action,\n",
    "                   \"reward\": reward,\n",
    "                   \"done\": done}\n",
    "for i in range(11):\n",
    "    next_obs, next_state, reward, done, _ = step(key_step, env_params,\n",
    "                                                 state, action)\n",
    "    step_experience = {\"state\": state,\n",
    "                       \"next_state\": next_state,\n",
    "                       \"obs\": obs,\n",
    "                       \"next_obs\": next_obs,\n",
    "                       \"action\": action,\n",
    "                       \"reward\": reward,\n",
    "                       \"done\": done}\n",
    "    buffer = push_buffer(buffer, step_experience)\n",
    "    # Auto-reset environment and use obs/state if episode terminated\n",
    "    obs_reset, state_reset = reset(rng_reset, env_params)\n",
    "    next_obs = done * obs_reset + (1 - done) * next_obs\n",
    "    next_state = done * state_reset + (1 - done) * next_state\n",
    "    # Update state/obs for next step\n",
    "    state = next_state\n",
    "    obs = next_obs"
   ]
  },
  {
   "cell_type": "code",
   "execution_count": 30,
   "metadata": {},
   "outputs": [
    {
     "data": {
      "text/plain": [
       "{'action': Buffer([[1.],\n",
       "         [1.],\n",
       "         [1.],\n",
       "         [1.],\n",
       "         [1.],\n",
       "         [1.],\n",
       "         [1.],\n",
       "         [1.],\n",
       "         [1.],\n",
       "         [1.],\n",
       "         [1.]], dtype=float32),\n",
       " 'capacity': Buffer(11, dtype=int32),\n",
       " 'done': Buffer([1., 0., 0., 0., 0., 0., 1., 0., 0., 0., 0.], dtype=float32),\n",
       " 'next_obs': Buffer([[-0.6837582 , -0.7297086 ,  2.528187  ],\n",
       "         [-0.9819272 , -0.18925898, -0.9573506 ],\n",
       "         [-0.9898011 , -0.1424563 , -0.9492949 ],\n",
       "         [-0.9952374 , -0.09748061, -0.9061372 ],\n",
       "         [-0.9984227 , -0.0561437 , -0.8292478 ],\n",
       "         [-0.9997979 , -0.02010416, -0.7213556 ],\n",
       "         [-0.9999575 ,  0.00921603, -0.5864338 ],\n",
       "         [-0.9819272 , -0.18925898, -0.9573506 ],\n",
       "         [-0.9898011 , -0.1424563 , -0.9492949 ],\n",
       "         [-0.9952374 , -0.09748061, -0.9061372 ],\n",
       "         [-0.9984227 , -0.0561437 , -0.8292478 ]], dtype=float32),\n",
       " 'next_state': Buffer([[ 3.9594884,  2.528187 , 12.       ],\n",
       "         [-2.9511852, -0.9573506,  1.       ],\n",
       "         [-2.99865  , -0.9492949,  2.       ],\n",
       "         [-3.043957 , -0.9061372,  3.       ],\n",
       "         [-3.0854194, -0.8292478,  4.       ],\n",
       "         [-3.1214871, -0.7213556,  5.       ],\n",
       "         [-3.1508088, -0.5864338,  6.       ],\n",
       "         [-2.9511852, -0.9573506,  1.       ],\n",
       "         [-2.99865  , -0.9492949,  2.       ],\n",
       "         [-3.043957 , -0.9061372,  3.       ],\n",
       "         [-3.0854194, -0.8292478,  4.       ]], dtype=float32),\n",
       " 'obs': Buffer([[-0.77029896, -0.6376829 ,  2.8564494 ],\n",
       "         [-0.97174656, -0.23602667, -0.9303305 ],\n",
       "         [-0.9819272 , -0.18925898, -0.9573506 ],\n",
       "         [-0.9898011 , -0.1424563 , -0.9492949 ],\n",
       "         [-0.9952374 , -0.09748061, -0.9061372 ],\n",
       "         [-0.9984227 , -0.0561437 , -0.8292478 ],\n",
       "         [-0.9997979 , -0.02010416, -0.7213556 ],\n",
       "         [-0.97174656, -0.23602667, -0.9303305 ],\n",
       "         [-0.9819272 , -0.18925898, -0.9573506 ],\n",
       "         [-0.9898011 , -0.1424563 , -0.9492949 ],\n",
       "         [-0.9952374 , -0.09748061, -0.9061372 ]], dtype=float32),\n",
       " 'pointer': Buffer(0, dtype=int32),\n",
       " 'reward': Buffer([-6.8199515, -8.516806 , -8.802147 , -9.083019 , -9.3487835,\n",
       "         -9.589579 , -9.796718 , -8.516806 , -8.802147 , -9.083019 ,\n",
       "         -9.3487835], dtype=float32),\n",
       " 'state': Buffer([[ 3.833079 ,  2.8564494, 11.       ],\n",
       "         [-2.9033177, -0.9303305,  0.       ],\n",
       "         [-2.9511852, -0.9573506,  1.       ],\n",
       "         [-2.99865  , -0.9492949,  2.       ],\n",
       "         [-3.043957 , -0.9061372,  3.       ],\n",
       "         [-3.0854194, -0.8292478,  4.       ],\n",
       "         [-3.1214871, -0.7213556,  5.       ],\n",
       "         [-2.9033177, -0.9303305,  0.       ],\n",
       "         [-2.9511852, -0.9573506,  1.       ],\n",
       "         [-2.99865  , -0.9492949,  2.       ],\n",
       "         [-3.043957 , -0.9061372,  3.       ]], dtype=float32),\n",
       " 'total_transitions': Buffer(11, dtype=int32)}"
      ]
     },
     "execution_count": 30,
     "metadata": {},
     "output_type": "execute_result"
    }
   ],
   "source": [
    "buffer"
   ]
  },
  {
   "cell_type": "code",
   "execution_count": null,
   "metadata": {},
   "outputs": [],
   "source": [
    "rng, key_sample = jax.random.split(rng)\n",
    "sample_buffer(key_sample, buffer, 3)"
   ]
  },
  {
   "cell_type": "code",
   "execution_count": null,
   "metadata": {},
   "outputs": [],
   "source": [
    "agent = MinimalInterleavedAgent(PolicyJAX)\n",
    "collector = InterleavedDojo(agent, buffer, push_buffer, sample_buffer,\n",
    "                            step, reset, env_params)\n",
    "collector.init_dojo(policy_params)\n",
    "trace, reward = collector.steps_rollout(rng_episode, num_steps)"
   ]
  },
  {
   "cell_type": "code",
   "execution_count": null,
   "metadata": {},
   "outputs": [],
   "source": [
    "collector.buffer"
   ]
  },
  {
   "cell_type": "code",
   "execution_count": null,
   "metadata": {},
   "outputs": [],
   "source": []
  }
 ],
 "metadata": {
  "kernelspec": {
   "display_name": "Python3 (ma-vision)",
   "language": "python",
   "name": "ma-vision"
  },
  "language_info": {
   "codemirror_mode": {
    "name": "ipython",
    "version": 3
   },
   "file_extension": ".py",
   "mimetype": "text/x-python",
   "name": "python",
   "nbconvert_exporter": "python",
   "pygments_lexer": "ipython3",
   "version": "3.6.9"
  }
 },
 "nbformat": 4,
 "nbformat_minor": 4
}
