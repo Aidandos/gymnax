{
 "cells": [
  {
   "cell_type": "markdown",
   "metadata": {},
   "source": [
    "# Evolving Pendulum Controllers\n",
    "### [Last Update: July 2022][![Colab](https://colab.research.google.com/assets/colab-badge.svg)](https://colab.research.google.com/github/RobertTLange/gymnax/blob/main/examples/es_in_gymnax.ipynb)"
   ]
  },
  {
   "cell_type": "code",
   "execution_count": 1,
   "metadata": {},
   "outputs": [],
   "source": [
    "%matplotlib inline\n",
    "%load_ext autoreload\n",
    "%autoreload 2\n",
    "%config InlineBackend.figure_format = 'retina'\n",
    "\n",
    "!pip install -q git+https://github.com/RobertTLange/gymnax.git@main\n",
    "!pip install -q git+https://github.com/RobertTLange/evosax.git@main"
   ]
  },
  {
   "cell_type": "markdown",
   "metadata": {},
   "source": [
    "## Open-ES with MLP Controller"
   ]
  },
  {
   "cell_type": "code",
   "execution_count": 1,
   "metadata": {},
   "outputs": [
    {
     "name": "stderr",
     "output_type": "stream",
     "text": [
      "<frozen importlib._bootstrap>:228: RuntimeWarning: scipy._lib.messagestream.MessageStream size changed, may indicate binary incompatibility. Expected 56 from C header, got 64 from PyObject\n",
      "WARNING:absl:No GPU/TPU found, falling back to CPU. (Set TF_CPP_MIN_LOG_LEVEL=0 and rerun for more info.)\n"
     ]
    },
    {
     "name": "stdout",
     "output_type": "stream",
     "text": [
      "ParameterReshaper: 4610 parameters detected for optimization.\n"
     ]
    }
   ],
   "source": [
    "import jax\n",
    "import jax.numpy as jnp\n",
    "\n",
    "from evosax import OpenES, ParameterReshaper, FitnessShaper, NetworkMapper\n",
    "from evosax.utils import ESLog\n",
    "from evosax.problems import GymFitness\n",
    "\n",
    "rng = jax.random.PRNGKey(0)\n",
    "network = NetworkMapper[\"MLP\"](\n",
    "    num_hidden_units=64,\n",
    "    num_hidden_layers=2,\n",
    "    num_output_units=2,\n",
    "    hidden_activation=\"relu\",\n",
    "    output_activation=\"categorical\",\n",
    ")\n",
    "pholder = jnp.zeros((4,))\n",
    "params = network.init(\n",
    "    rng,\n",
    "    x=pholder,\n",
    "    rng=rng,\n",
    ")\n",
    "\n",
    "param_reshaper = ParameterReshaper(params)"
   ]
  },
  {
   "cell_type": "code",
   "execution_count": 2,
   "metadata": {},
   "outputs": [],
   "source": []
  },
  {
   "cell_type": "code",
   "execution_count": 3,
   "metadata": {},
   "outputs": [
    {
     "data": {
      "text/plain": [
       "EvoParams(opt_params=OptParams(lrate_init=0.01, lrate_decay=0.999, lrate_limit=0.001, momentum=0.9, beta_1=None, beta_2=None, eps=None, max_speed=None), sigma_init=0.04, sigma_decay=0.999, sigma_limit=0.01, init_min=0.0, init_max=0.0, clip_min=-3.4028235e+38, clip_max=3.4028235e+38)"
      ]
     },
     "execution_count": 3,
     "metadata": {},
     "output_type": "execute_result"
    }
   ],
   "source": [
    "strategy = OpenES(popsize=100,\n",
    "                  num_dims=param_reshaper.total_params,\n",
    "                  opt_name=\"sgd\")\n",
    "strategy.default_params"
   ]
  },
  {
   "cell_type": "code",
   "execution_count": 4,
   "metadata": {},
   "outputs": [
    {
     "name": "stderr",
     "output_type": "stream",
     "text": [
      "/Users/rob/anaconda3/envs/mle-toolbox/lib/python3.9/site-packages/jax/_src/tree_util.py:188: FutureWarning: jax.tree_util.tree_multimap() is deprecated. Please use jax.tree_util.tree_map() instead as a drop-in replacement.\n",
      "  warnings.warn('jax.tree_util.tree_multimap() is deprecated. Please use jax.tree_util.tree_map() '\n"
     ]
    },
    {
     "name": "stdout",
     "output_type": "stream",
     "text": [
      "Generation:  0 Generation:  21.875\n",
      "Generation:  20 Generation:  80.25\n",
      "Generation:  40 Generation:  82.75\n",
      "Generation:  60 Generation:  166.1875\n",
      "Generation:  80 Generation:  200.0\n",
      "Generation:  100 Generation:  200.0\n",
      "Generation:  120 Generation:  200.0\n",
      "Generation:  140 Generation:  200.0\n",
      "Generation:  160 Generation:  200.0\n",
      "Generation:  180 Generation:  200.0\n"
     ]
    }
   ],
   "source": [
    "num_generations = 200\n",
    "print_every_k_gens = 20\n",
    "\n",
    "es_logging = ESLog(param_reshaper.total_params,\n",
    "                   num_generations,\n",
    "                   top_k=5,\n",
    "                   maximize=True)\n",
    "log = es_logging.initialize()\n",
    "\n",
    "fit_shaper = FitnessShaper(centered_rank=True,\n",
    "                           z_score=True,\n",
    "                           w_decay=0.1,\n",
    "                           maximize=True)\n",
    "\n",
    "state = strategy.initialize(rng)\n",
    "\n",
    "for gen in range(num_generations):\n",
    "    rng, rng_init, rng_ask, rng_eval = jax.random.split(rng, 4)\n",
    "    x, state = strategy.ask(rng_ask, state)\n",
    "    reshaped_params = param_reshaper.reshape(x)\n",
    "    fitness = evaluator.rollout(rng_eval, reshaped_params).mean(axis=1)\n",
    "    fit_re = fit_shaper.apply(x, fitness)\n",
    "    state = strategy.tell(x, fit_re, state)\n",
    "    log = es_logging.update(log, x, fitness)\n",
    "    \n",
    "    if gen % print_every_k_gens == 0:\n",
    "        print(\"Generation: \", gen, \"Generation: \", log[\"log_top_1\"][gen])"
   ]
  },
  {
   "cell_type": "code",
   "execution_count": 5,
   "metadata": {},
   "outputs": [
    {
     "data": {
      "text/plain": [
       "(<Figure size 432x216 with 1 Axes>,\n",
       " <AxesSubplot:title={'center':'CartPole MLP OpenAI-ES'}, xlabel='Number of Generations', ylabel='Fitness Score'>)"
      ]
     },
     "execution_count": 5,
     "metadata": {},
     "output_type": "execute_result"
    },
    {
     "data": {
      "image/png": "[encoded data removed]",
      "text/plain": [
       "<Figure size 432x216 with 1 Axes>"
      ]
     },
     "metadata": {
      "needs_background": "light"
     },
     "output_type": "display_data"
    }
   ],
   "source": [
    "es_logging.plot(log, \"CartPole MLP OpenAI-ES\")"
   ]
  },
  {
   "cell_type": "markdown",
   "metadata": {},
   "source": [
    "`evosax` also already comes equipped with a fitness rollout wrapper for all `gymnax` environments:"
   ]
  },
  {
   "cell_type": "code",
   "execution_count": null,
   "metadata": {},
   "outputs": [],
   "source": [
    "evaluator = GymFitness(\"Acrobot-v1\", num_env_steps=500, num_rollouts=16)\n",
    "evaluator.set_apply_fn(param_reshaper.vmap_dict, network.apply)"
   ]
  },
  {
   "cell_type": "markdown",
   "metadata": {},
   "source": [
    "## Evolving a Meta-LSTM to Control Different Length 2-Link Pendula"
   ]
  },
  {
   "cell_type": "markdown",
   "metadata": {},
   "source": []
  }
 ],
 "metadata": {
  "kernelspec": {
   "display_name": "mle-toolbox",
   "language": "python",
   "name": "mle-toolbox"
  },
  "language_info": {
   "codemirror_mode": {
    "name": "ipython",
    "version": 3
   },
   "file_extension": ".py",
   "mimetype": "text/x-python",
   "name": "python",
   "nbconvert_exporter": "python",
   "pygments_lexer": "ipython3",
   "version": "3.9.7"
  }
 },
 "nbformat": 4,
 "nbformat_minor": 4
}
