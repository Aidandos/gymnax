{
 "cells": [
  {
   "cell_type": "code",
   "execution_count": 1,
   "metadata": {},
   "outputs": [
    {
     "name": "stderr",
     "output_type": "stream",
     "text": [
      "WARNING:absl:No GPU/TPU found, falling back to CPU. (Set TF_CPP_MIN_LOG_LEVEL=0 and rerun for more info.)\n"
     ]
    }
   ],
   "source": [
    "import jax\n",
    "import jax.numpy as jnp\n",
    "import gym\n",
    "import gymnax"
   ]
  },
  {
   "cell_type": "markdown",
   "metadata": {},
   "source": [
    "# Pendulum-v0"
   ]
  },
  {
   "cell_type": "code",
   "execution_count": 2,
   "metadata": {},
   "outputs": [],
   "source": [
    "# 2D State Space, 3D Obs Space, 1D Action Space [Continuous - Torque]\n",
    "rng, reset, step, env_params = gymnax.make(\"Pendulum-v0\")\n",
    "rng, key_reset, key_step = jax.random.split(rng, 3)\n",
    "obs, state = reset(key_reset, env_params)"
   ]
  },
  {
   "cell_type": "code",
   "execution_count": 3,
   "metadata": {},
   "outputs": [
    {
     "data": {
      "text/plain": [
       "(array([ 0.89066803, -0.4546542 , -0.54858065], dtype=float32),\n",
       " DeviceArray(-0.21276952, dtype=float32),\n",
       " False)"
      ]
     },
     "execution_count": 3,
     "metadata": {},
     "output_type": "execute_result"
    }
   ],
   "source": [
    "env = gym.make(\"Pendulum-v0\")\n",
    "obs = env.reset()\n",
    "state = env.state[:]\n",
    "\n",
    "action = jnp.array([1])\n",
    "obs_gym, reward_gym, done_gym, _ = env.step(action)\n",
    "obs_gym, reward_gym, done_gym"
   ]
  },
  {
   "cell_type": "code",
   "execution_count": 4,
   "metadata": {},
   "outputs": [
    {
     "data": {
      "text/plain": [
       "(DeviceArray([ 0.89066803, -0.45465416, -0.5485805 ], dtype=float32),\n",
       " DeviceArray(-0.21276948, dtype=float32),\n",
       " DeviceArray(False, dtype=bool))"
      ]
     },
     "execution_count": 4,
     "metadata": {},
     "output_type": "execute_result"
    }
   ],
   "source": [
    "obs_jax, state_jax, reward_jax, done_jax, _ = step(key_step, env_params,\n",
    "                                                   state, action)\n",
    "obs_jax, reward_jax, done_jax"
   ]
  },
  {
   "cell_type": "markdown",
   "metadata": {},
   "source": [
    "# CartPole-v0"
   ]
  },
  {
   "cell_type": "code",
   "execution_count": 5,
   "metadata": {},
   "outputs": [],
   "source": [
    "# 4D State = Obs Space, 1D Action Space [Discrete - Left, Right]\n",
    "rng, reset, step, env_params = gymnax.make(\"CartPole-v0\")\n",
    "rng, key_reset, key_step = jax.random.split(rng, 3)\n",
    "obs, state = reset(key_reset, env_params)"
   ]
  },
  {
   "cell_type": "code",
   "execution_count": 6,
   "metadata": {},
   "outputs": [
    {
     "data": {
      "text/plain": [
       "(array([-0.02063048, -0.23446018, -0.04626267,  0.32442767]), 1.0, False)"
      ]
     },
     "execution_count": 6,
     "metadata": {},
     "output_type": "execute_result"
    }
   ],
   "source": [
    "env = gym.make(\"CartPole-v0\")\n",
    "obs = env.reset()\n",
    "state = jnp.hstack([obs, 0])\n",
    "\n",
    "action = 0\n",
    "obs_gym, reward_gym, done_gym, _ = env.step(action)\n",
    "obs_gym, reward_gym, done_gym"
   ]
  },
  {
   "cell_type": "code",
   "execution_count": 7,
   "metadata": {},
   "outputs": [
    {
     "data": {
      "text/plain": [
       "(DeviceArray([-0.02063048, -0.23446016, -0.04626267,  0.32442763], dtype=float32),\n",
       " DeviceArray(1., dtype=float32),\n",
       " DeviceArray(False, dtype=bool))"
      ]
     },
     "execution_count": 7,
     "metadata": {},
     "output_type": "execute_result"
    }
   ],
   "source": [
    "obs_jax, state_jax, reward_jax, done_jax, _ = step(key_step, env_params,\n",
    "                                                   state, action)\n",
    "obs_jax, reward_jax, done_jax"
   ]
  },
  {
   "cell_type": "markdown",
   "metadata": {},
   "source": [
    "# MountainCar-v0"
   ]
  },
  {
   "cell_type": "code",
   "execution_count": 8,
   "metadata": {},
   "outputs": [],
   "source": [
    "# 2D State = Obs Space, 1D Action Space [Discrete - Acc. Left, No Acc., Acc. Right]\n",
    "rng, reset, step, env_params = gymnax.make(\"MountainCar-v0\")\n",
    "rng, key_reset, key_step = jax.random.split(rng, 3)\n",
    "obs, state = reset(key_reset, env_params)"
   ]
  },
  {
   "cell_type": "code",
   "execution_count": 9,
   "metadata": {},
   "outputs": [
    {
     "data": {
      "text/plain": [
       "(array([-0.4672064 , -0.00143151]), -1.0, False)"
      ]
     },
     "execution_count": 9,
     "metadata": {},
     "output_type": "execute_result"
    }
   ],
   "source": [
    "env = gym.make(\"MountainCar-v0\")\n",
    "obs = env.reset()\n",
    "state = jnp.hstack([obs, 0])\n",
    "\n",
    "action = 0\n",
    "obs_gym, reward_gym, done_gym, _ = env.step(action)\n",
    "obs_gym, reward_gym, done_gym"
   ]
  },
  {
   "cell_type": "code",
   "execution_count": 10,
   "metadata": {},
   "outputs": [
    {
     "data": {
      "text/plain": [
       "(DeviceArray([-0.4672064 , -0.00143151], dtype=float32),\n",
       " DeviceArray(-1., dtype=float32),\n",
       " DeviceArray(False, dtype=bool))"
      ]
     },
     "execution_count": 10,
     "metadata": {},
     "output_type": "execute_result"
    }
   ],
   "source": [
    "obs_jax, state_jax, reward_jax, done_jax, _ = step(key_step, env_params,\n",
    "                                                   state, action)\n",
    "obs_jax, reward_jax, done_jax"
   ]
  },
  {
   "cell_type": "markdown",
   "metadata": {},
   "source": [
    "# MountainCarContinuous-v0"
   ]
  },
  {
   "cell_type": "code",
   "execution_count": 11,
   "metadata": {},
   "outputs": [],
   "source": [
    "# 2D State = Obs Space, 1D Action Space [Cont.: -1, 1]\n",
    "rng, reset, step, env_params = gymnax.make(\"MountainCarContinuous-v0\")\n",
    "rng, key_reset, key_step = jax.random.split(rng, 3)\n",
    "obs, state = reset(key_reset, env_params)"
   ]
  },
  {
   "cell_type": "code",
   "execution_count": 12,
   "metadata": {},
   "outputs": [
    {
     "data": {
      "text/plain": [
       "(array([-4.6698186e-01,  3.2985030e-04], dtype=float32), -0.025, False)"
      ]
     },
     "execution_count": 12,
     "metadata": {},
     "output_type": "execute_result"
    }
   ],
   "source": [
    "env = gym.make(\"MountainCarContinuous-v0\")\n",
    "obs = env.reset()\n",
    "state = jnp.hstack([obs, 0])\n",
    "\n",
    "action = jnp.array([0.5])\n",
    "obs_gym, reward_gym, done_gym, _ = env.step(action)\n",
    "obs_gym, reward_gym, done_gym"
   ]
  },
  {
   "cell_type": "code",
   "execution_count": 13,
   "metadata": {},
   "outputs": [
    {
     "data": {
      "text/plain": [
       "(DeviceArray([-4.6698186e-01,  3.2985030e-04], dtype=float32),\n",
       " DeviceArray([-0.025], dtype=float32),\n",
       " DeviceArray([False], dtype=bool))"
      ]
     },
     "execution_count": 13,
     "metadata": {},
     "output_type": "execute_result"
    }
   ],
   "source": [
    "obs_jax, state_jax, reward_jax, done_jax, _ = step(key_step, env_params,\n",
    "                                                   state, action)\n",
    "obs_jax, reward_jax, done_jax"
   ]
  },
  {
   "cell_type": "markdown",
   "metadata": {},
   "source": [
    "# Acrobot-v1"
   ]
  },
  {
   "cell_type": "code",
   "execution_count": 14,
   "metadata": {},
   "outputs": [],
   "source": [
    "# 6D State = Obs Space, 1D Action Space [Cont.: -1, 1]\n",
    "rng, reset, step, env_params = gymnax.make(\"Acrobot-v1\")\n",
    "rng, key_reset, key_step = jax.random.split(rng, 3)\n",
    "obs, state = reset(key_reset, env_params)"
   ]
  },
  {
   "cell_type": "code",
   "execution_count": 16,
   "metadata": {},
   "outputs": [
    {
     "data": {
      "text/plain": [
       "(array([ 0.99959848,  0.02833526,  0.99859376,  0.0530141 , -0.25159606,\n",
       "         0.30664613]), -1.0, False)"
      ]
     },
     "execution_count": 16,
     "metadata": {},
     "output_type": "execute_result"
    }
   ],
   "source": [
    "env = gym.make(\"Acrobot-v1\")\n",
    "obs = env.reset()\n",
    "state = env.state[:]\n",
    "\n",
    "action = 2\n",
    "obs_gym, reward_gym, done_gym, _ = env.step(action)\n",
    "obs_gym, reward_gym, done_gym"
   ]
  },
  {
   "cell_type": "code",
   "execution_count": null,
   "metadata": {},
   "outputs": [],
   "source": [
    "obs_jax, state_jax, reward_jax, done_jax, _ = step(key_step, env_params,\n",
    "                                                   state, action)\n",
    "obs_jax, reward_jax, done_jax"
   ]
  },
  {
   "cell_type": "code",
   "execution_count": null,
   "metadata": {},
   "outputs": [],
   "source": []
  }
 ],
 "metadata": {
  "kernelspec": {
   "display_name": "Python3 (ma-vision)",
   "language": "python",
   "name": "ma-vision"
  },
  "language_info": {
   "codemirror_mode": {
    "name": "ipython",
    "version": 3
   },
   "file_extension": ".py",
   "mimetype": "text/x-python",
   "name": "python",
   "nbconvert_exporter": "python",
   "pygments_lexer": "ipython3",
   "version": "3.6.9"
  }
 },
 "nbformat": 4,
 "nbformat_minor": 4
}
